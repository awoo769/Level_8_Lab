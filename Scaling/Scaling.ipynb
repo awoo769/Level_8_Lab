{
 "cells": [
  {
   "cell_type": "markdown",
   "metadata": {},
   "source": [
    "# Scaling\n",
    "\n",
    "Alex Woodall <br>\n",
    "Auckland Bioengineering Institute <br>\n",
    "Auckland, New Zealand <br>\n",
    "\n",
    "To accurately perform kinematic/kinetic analysis, we need to scale the model after performing a general scaling. We need the muscle/tendon length, Fmax, optimal fibre length and tendon slack length.\n",
    "\n",
    "Steps involved: <br>\n",
    "1) Prescale model to scale joint lengths etc <br>\n",
    "2) Scale tendon slack length and optimal fibre length <br>\n",
    "3) Scale Fmax\n",
    "\n",
    "Muscle/tendon length can be obtained from a Muscle Analysis in OpenSim (after inverse kinematics)"
   ]
  }
 ],
 "metadata": {
  "kernelspec": {
   "display_name": "Python 3",
   "language": "python",
   "name": "python3"
  },
  "language_info": {
   "codemirror_mode": {
    "name": "ipython",
    "version": 3
   },
   "file_extension": ".py",
   "mimetype": "text/x-python",
   "name": "python",
   "nbconvert_exporter": "python",
   "pygments_lexer": "ipython3",
   "version": "3.7.4"
  }
 },
 "nbformat": 4,
 "nbformat_minor": 2
}
