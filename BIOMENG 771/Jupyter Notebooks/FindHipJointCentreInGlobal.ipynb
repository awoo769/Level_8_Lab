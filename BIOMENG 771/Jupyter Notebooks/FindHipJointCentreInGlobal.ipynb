{
 "cells": [
  {
   "cell_type": "markdown",
   "metadata": {},
   "source": [
    "# Finding the hip joint centre in global coordinate system\n",
    "\n",
    "> Alex Woodall, Thor Besier <br>\n",
    "> Auckland Bioengineering Institute <br>\n",
    "> University of Auckland, New Zealand"
   ]
  },
  {
   "cell_type": "markdown",
   "metadata": {},
   "source": [
    "This notebook will open up a __static__ trial.trc file and calculate the hip joint centres within the global coordinate system.\n",
    "\n",
    "Start by importing the libraries needed to run the task."
   ]
  },
  {
   "cell_type": "code",
   "execution_count": 2,
   "metadata": {},
   "outputs": [],
   "source": [
    "# Import the necessary libraries\n",
    "import numpy as np\n",
    "\n",
    "import sys\n",
    "sys.path.insert(1, r'./../Functions')  # add to path\n",
    "\n",
    "from read_trc import read_trc\n",
    "from segment_orientation_V1V3 import segment_orientation_V1V3"
   ]
  },
  {
   "cell_type": "markdown",
   "metadata": {},
   "source": [
    "## Reading in a TRC file\n",
    "\n",
    "We can read in the desired trc file, containing the coordinate data for each of the markers during a motion capture recording session."
   ]
  },
  {
   "cell_type": "code",
   "execution_count": 3,
   "metadata": {},
   "outputs": [
    {
     "name": "stdout",
     "output_type": "stream",
     "text": [
      "You have selected Cancel. Please select a TRC file.\n",
      "Leaving readTRC\n"
     ]
    },
    {
     "ename": "TypeError",
     "evalue": "cannot unpack non-iterable NoneType object",
     "output_type": "error",
     "traceback": [
      "\u001b[1;31m---------------------------------------------------------------------------\u001b[0m",
      "\u001b[1;31mTypeError\u001b[0m                                 Traceback (most recent call last)",
      "\u001b[1;32m<ipython-input-3-8fb87b00ebe1>\u001b[0m in \u001b[0;36m<module>\u001b[1;34m\u001b[0m\n\u001b[1;32m----> 1\u001b[1;33m \u001b[0mmkr_data\u001b[0m\u001b[1;33m,\u001b[0m \u001b[0m_\u001b[0m \u001b[1;33m=\u001b[0m \u001b[0mread_trc\u001b[0m\u001b[1;33m(\u001b[0m\u001b[1;33m)\u001b[0m\u001b[1;33m\u001b[0m\u001b[1;33m\u001b[0m\u001b[0m\n\u001b[0m\u001b[0;32m      2\u001b[0m \u001b[1;33m\u001b[0m\u001b[0m\n\u001b[0;32m      3\u001b[0m \u001b[0mnframes\u001b[0m\u001b[1;33m,\u001b[0m \u001b[0mncolumns\u001b[0m \u001b[1;33m=\u001b[0m \u001b[0mnp\u001b[0m\u001b[1;33m.\u001b[0m\u001b[0mshape\u001b[0m\u001b[1;33m(\u001b[0m\u001b[0mmkr_data\u001b[0m\u001b[1;33m[\u001b[0m\u001b[1;34m\"Data\"\u001b[0m\u001b[1;33m]\u001b[0m\u001b[1;33m[\u001b[0m\u001b[1;34m\"RawData\"\u001b[0m\u001b[1;33m]\u001b[0m\u001b[1;33m)\u001b[0m\u001b[1;33m\u001b[0m\u001b[1;33m\u001b[0m\u001b[0m\n",
      "\u001b[1;31mTypeError\u001b[0m: cannot unpack non-iterable NoneType object"
     ]
    }
   ],
   "source": [
    "mkr_data, _ = read_trc()\n",
    "\n",
    "nframes, ncolumns = np.shape(mkr_data[\"Data\"][\"RawData\"])"
   ]
  },
  {
   "cell_type": "markdown",
   "metadata": {},
   "source": [
    "## Choosing the markers\n",
    "\n",
    "To calculate the hip joint centre, we need the markers on the hip.\n",
    "\n",
    "The hip markers also allow us to define a marker for the sacrum (half way between the LPsis and RPsis) and the pelvis origin (half way between the LAsis and RAsis). If there is a sacrum marker in the marker set, feel free to use that instead of calculating it."
   ]
  },
  {
   "cell_type": "code",
   "execution_count": 3,
   "metadata": {},
   "outputs": [],
   "source": [
    "LASI = mkr_data[\"Data\"][\"Markers\"][\"LAsis\"][\"All\"]\n",
    "RASI = mkr_data[\"Data\"][\"Markers\"][\"RAsis\"][\"All\"]\n",
    "LPSI = mkr_data[\"Data\"][\"Markers\"][\"LPsis\"][\"All\"]\n",
    "RPSI = mkr_data[\"Data\"][\"Markers\"][\"RPsis\"][\"All\"]"
   ]
  },
  {
   "cell_type": "code",
   "execution_count": 4,
   "metadata": {},
   "outputs": [],
   "source": [
    "# Define sacrum marker\n",
    "SACR = (LPSI + RPSI)/2\n",
    "\n",
    "# Define the pelvis origin\n",
    "origin_pelvis = (LASI + RASI)/2"
   ]
  },
  {
   "cell_type": "markdown",
   "metadata": {},
   "source": [
    "## Calculating unit vectors\n",
    "\n",
    "The functional method requires us to calculate the unit vectors of the pelvis segment relative to the global coordinate system. For more information on this, see the _segment_orientation_V1V3()_ function."
   ]
  },
  {
   "cell_type": "code",
   "execution_count": 5,
   "metadata": {},
   "outputs": [],
   "source": [
    "# Calculate unit vectors of pelvis segment relative to global\n",
    "e1_pelvis, e2_pelvis, e3_pelvis = segment_orientation_V1V3(origin_pelvis - SACR, RASI - LASI)"
   ]
  },
  {
   "cell_type": "markdown",
   "metadata": {},
   "source": [
    "## Global coordinate system\n",
    "\n",
    "We can now project the hip joint centre back into the global coordinate system"
   ]
  },
  {
   "cell_type": "code",
   "execution_count": 6,
   "metadata": {},
   "outputs": [],
   "source": [
    "# Initialise arrays for hip centres and define the left and right HJC locations (set to origin as default)\n",
    "LHJC = []\n",
    "RHJC = []\n",
    "LHJC_location = np.zeros((3,1))\n",
    "RHJC_location = np.zeros((3,1))\n",
    "\n",
    "# Project hip joint centre back into global coordinate system\n",
    "for i in range(nframes):\n",
    "    rotation_matrix = np.array([e1_pelvis[i,:], e2_pelvis[i,:], e3_pelvis[i,:]])\n",
    "    \n",
    "    LHJC.append(np.matmul(np.linalg.inv(rotation_matrix), LHJC_location) + (origin_pelvis[i,:])[:,np.newaxis])\n",
    "    RHJC.append(np.matmul(np.linalg.inv(rotation_matrix), RHJC_location) + (origin_pelvis[i,:])[:,np.newaxis])\n",
    "\n",
    "# Convert to array\n",
    "LHJC = np.array(LHJC)\n",
    "RHJC = np.array(RHJC)"
   ]
  },
  {
   "cell_type": "markdown",
   "metadata": {},
   "source": [
    "## Visualisation\n",
    "\n",
    "Now you can export the LHJC and RHJC data and append it to the static.trc file... good luck!"
   ]
  },
  {
   "cell_type": "code",
   "execution_count": null,
   "metadata": {},
   "outputs": [],
   "source": []
  }
 ],
 "metadata": {
  "kernelspec": {
   "display_name": "Python 3",
   "language": "python",
   "name": "python3"
  },
  "language_info": {
   "codemirror_mode": {
    "name": "ipython",
    "version": 3
   },
   "file_extension": ".py",
   "mimetype": "text/x-python",
   "name": "python",
   "nbconvert_exporter": "python",
   "pygments_lexer": "ipython3",
   "version": "3.7.4"
  }
 },
 "nbformat": 4,
 "nbformat_minor": 2
}
