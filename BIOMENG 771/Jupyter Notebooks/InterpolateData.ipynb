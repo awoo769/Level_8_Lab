{
 "cells": [
  {
   "cell_type": "markdown",
   "metadata": {},
   "source": [
    "# Interpolating Data\n",
    "\n",
    "> Alex Woodall <br>\n",
    "> Auckland Bioengineering Institute <br>\n",
    "> University of Auckland, New Zealand"
   ]
  },
  {
   "cell_type": "markdown",
   "metadata": {},
   "source": [
    "There are two stages which occur during one stride, the stance phase ($\\sim$60 %) and the swing phase ($\\sim$40 %).\n",
    "\n",
    "To compare different motion trials and to analyse a single gait trial, we need to look at the kinematics/kinetics during the stance phase. \n",
    "\n",
    "![alt text](./../images/stance_phase.png \"Stance Phase\")\n",
    "\n",
    "There are 4 stages during the stance phase:\n",
    "* HS: Heel Strike\n",
    "* CTO: Contralateral Toe Off\n",
    "* CHS: Contralateral Heel Strike\n",
    "* TO: Toe Off\n",
    "\n",
    "Generally, one stride phase can be considered from HS to HS.\n",
    "\n",
    "To look at the stance phase, it is helpful to view the phase out of 100 %. This is where interpolating the data becomes useful.\n",
    "\n",
    "Start by importing the libraries needed to run the task."
   ]
  },
  {
   "cell_type": "code",
   "execution_count": 1,
   "metadata": {},
   "outputs": [],
   "source": [
    "import numpy as np\n",
    "from numpy import matlib\n",
    "import os\n",
    "import tkinter as tk\n",
    "from tkinter import filedialog\n",
    "\n",
    "import matplotlib.pyplot as plt\n",
    "\n",
    "from scipy import interpolate"
   ]
  },
  {
   "cell_type": "markdown",
   "metadata": {},
   "source": [
    "## Reading a mot file/sto file\n",
    "\n",
    "We need to read in the motion file of the trial. You can obtain an .mot file from the output of inverse kinematics from OpenSim or an .sto file from the output of inverse dynamics from OpenSim. \n",
    "\n",
    "### Load the motion file"
   ]
  },
  {
   "cell_type": "code",
   "execution_count": 8,
   "metadata": {},
   "outputs": [],
   "source": [
    "root = tk.Tk()\n",
    "root.withdraw()\n",
    "\n",
    "file_path = filedialog.askopenfilename(initialdir = \"r\",title = \"Select file\",filetypes = ((\"mot files\",\"*.mot\"),(\"all files\",\"*.*\")))\n",
    "\n",
    "# Open mot file with read only access\n",
    "mot_fid = open(file_path,'r')\n",
    "\n",
    "mot_lines = mot_fid.readlines()\n",
    "mot_fid.close()"
   ]
  },
  {
   "cell_type": "markdown",
   "metadata": {},
   "source": [
    "### View the motion file\n",
    "\n",
    "In this example, we will be reading the _walk.mot_ file. To get a feel for what the file looks like, open the file in a txt reader. The first line of data that is useful in this file is the 8th line. However, this may be different in another file, so always check first."
   ]
  },
  {
   "cell_type": "code",
   "execution_count": 3,
   "metadata": {},
   "outputs": [],
   "source": [
    "# First line of data is on line 8, check this in your own .mot file and change accordingly\n",
    "mot_data = mot_lines[8:]\n",
    "\n",
    "data = []\n",
    "\n",
    "# Split into an array for easier manipulation\n",
    "for i in range(len(mot_data)):\n",
    "    tmp = [float(i) for i in mot_data[i].split()]\n",
    "    data.append(tmp)\n",
    "\n",
    "# Convert to array of floats\n",
    "data = np.array(data)"
   ]
  },
  {
   "cell_type": "markdown",
   "metadata": {},
   "source": [
    "### Getting data\n",
    "\n",
    "Once we have the file, we can now take the data which we require. Once again, check in the motion file to make sure that you are taking the correct array (remember, Python starts indexing from __0__)."
   ]
  },
  {
   "cell_type": "code",
   "execution_count": 4,
   "metadata": {},
   "outputs": [],
   "source": [
    "# Pull out wanted arrays\n",
    "time = data[:,0] # Time\n",
    "Rknee_flexion = data[:,3] # Right knee flexion"
   ]
  },
  {
   "cell_type": "markdown",
   "metadata": {},
   "source": [
    "## Interpolation\n",
    "\n",
    "### Point selection\n",
    "\n",
    "To interpolate the data between the stride phase (or between which ever phase you would like), we need to select the coordinates of the start and end of the phase.\n",
    "\n",
    "Simply click on the start point then on the end point. The red cross hair will appear when you click on the first point, and will disappear when you click on the second.\n",
    "\n",
    "NB: The plot opens up in a new tab"
   ]
  },
  {
   "cell_type": "code",
   "execution_count": 5,
   "metadata": {},
   "outputs": [],
   "source": [
    "%matplotlib qt\n",
    "\n",
    "# Select points of interest for your spline interpolation\n",
    "fig = plt.figure()\n",
    "plt.plot(time, Rknee_flexion)\n",
    "plt.title(\"Select START and END point for Spline Interpolation\")\n",
    "plt.xlabel(\"Time (s)\")\n",
    "plt.ylabel(\"Angle (deg)\")\n",
    "\n",
    "x0y0,x1y1 = plt.ginput(n=2)\n",
    "\n",
    "plt.show()"
   ]
  },
  {
   "cell_type": "markdown",
   "metadata": {},
   "source": [
    "### Interpolate\n",
    "\n",
    "We can now use a cubic spline interpolation.\n",
    "\n",
    "Select the number of points that we want to interpolate. Because we want the phase to be out of 100 %, we will interpolate 100 points."
   ]
  },
  {
   "cell_type": "code",
   "execution_count": 6,
   "metadata": {},
   "outputs": [],
   "source": [
    "# Select the number of points to interpolate\n",
    "ninterpolates_points = 100\n",
    "\n",
    "# Create the new time array for interpolation\n",
    "new_x = np.linspace(x0y0[0], x1y1[0], ninterpolates_points)\n",
    "\n",
    "# Interpolate using the cubic spline\n",
    "tck = interpolate.splrep(time, Rknee_flexion, s=0)\n",
    "\n",
    "new_data = interpolate.splev(new_x, tck, der=0)"
   ]
  },
  {
   "cell_type": "markdown",
   "metadata": {},
   "source": [
    "## Visualise interpolated points\n",
    "\n",
    "Now view the interpolated points as a % stance (or whichever phase you chose)."
   ]
  },
  {
   "cell_type": "code",
   "execution_count": 7,
   "metadata": {},
   "outputs": [
    {
     "data": {
      "image/png": "[encoded data removed]",
      "text/plain": [
       "<Figure size 432x288 with 1 Axes>"
      ]
     },
     "metadata": {
      "needs_background": "light"
     },
     "output_type": "display_data"
    }
   ],
   "source": [
    "%matplotlib inline\n",
    "\n",
    "# Plot splined data\n",
    "fig = plt.figure()\n",
    "plt.plot(new_data)\n",
    "plt.title(\"Interpolated data\")\n",
    "plt.xlabel(\"% stance\")\n",
    "plt.ylabel(\"Knee Flexion (deg)\")\n",
    "\n",
    "plt.show()"
   ]
  },
  {
   "cell_type": "code",
   "execution_count": null,
   "metadata": {},
   "outputs": [],
   "source": []
  }
 ],
 "metadata": {
  "kernelspec": {
   "display_name": "Python 3",
   "language": "python",
   "name": "python3"
  },
  "language_info": {
   "codemirror_mode": {
    "name": "ipython",
    "version": 3
   },
   "file_extension": ".py",
   "mimetype": "text/x-python",
   "name": "python",
   "nbconvert_exporter": "python",
   "pygments_lexer": "ipython3",
   "version": "3.7.4"
  }
 },
 "nbformat": 4,
 "nbformat_minor": 2
}
