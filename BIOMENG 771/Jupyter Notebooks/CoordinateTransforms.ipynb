{
 "cells": [
  {
   "cell_type": "markdown",
   "metadata": {},
   "source": [
    "# Coordinate transform example\n",
    "\n",
    "> Alex Woodall, Thor Besier <br>\n",
    "> Auckland Bioengineering Institute <br>\n",
    "> University of Auckland, New Zealand"
   ]
  },
  {
   "cell_type": "markdown",
   "metadata": {},
   "source": [
    "You may need to transform coordinates by either rotation or translation (or both!).\n",
    "\n",
    "This notebook shows you how you would rotate coordinates in both of these transformations.\n",
    "\n",
    "Start by importing the libraries needed to run the task."
   ]
  },
  {
   "cell_type": "code",
   "execution_count": 1,
   "metadata": {},
   "outputs": [],
   "source": [
    "import numpy as np\n",
    "\n",
    "import sys\n",
    "sys.path.insert(1, r'./../Functions')  # add to path\n",
    "\n",
    "from coord_rot import coord_rot\n",
    "from coord_tr import coord_tr"
   ]
  },
  {
   "cell_type": "markdown",
   "metadata": {},
   "source": [
    "## Define the coordinates\n",
    "\n",
    "This process requires the coordinates of the origin, proximal, medial, lateral and distal. It also requires the coordinates system which you want to rotate.\n",
    "\n",
    "If $f = 1$, we are analysing the right leg, and if $f = 2$, then we are analysing the left."
   ]
  },
  {
   "cell_type": "code",
   "execution_count": 2,
   "metadata": {},
   "outputs": [],
   "source": [
    "org = np.array(([5, 2, 0], [5, 2, 0], [5, 2, 0], [5, 2, 0], [0, 0, 0])) # origin\n",
    "prox = np.array(([0, 10, 0], [0, 10, 0], [0, 10, 0], [0, 10, 0], [0, 10, 0])) # proximal\n",
    "med = np.array(([0, 0, 0], [0, 0, 0], [0, 0, 0], [0, 0, 0], [0, 0, 0])) # medial\n",
    "lat = np.array(([10, 0, 0], [10, 0, 0], [10, 0, 0], [10, 0, 0], [10, 0, 0])) # lateral\n",
    "dist = np.array(([0, 0, 0], [0, 0, 0], [0, 0, 0], [0, 0, 0], [0, 0, 0])) # distal\n",
    "xyz = np.array(([10, 0, 0], [10, 0, 0], [10, 0, 0], [10, 0, 0], [10, 0, 0])) # xyz\n",
    "\n",
    "f = 1"
   ]
  },
  {
   "cell_type": "markdown",
   "metadata": {},
   "source": [
    "## Transformation\n",
    "\n",
    "Transform the coordinate system in rotation"
   ]
  },
  {
   "cell_type": "code",
   "execution_count": 3,
   "metadata": {},
   "outputs": [],
   "source": [
    "xyz_rot = coord_rot(org, dist, prox, med, lat, xyz, f)"
   ]
  },
  {
   "cell_type": "markdown",
   "metadata": {},
   "source": [
    "Transform the coordinate system in translation"
   ]
  },
  {
   "cell_type": "code",
   "execution_count": 4,
   "metadata": {},
   "outputs": [],
   "source": [
    "xyz_tr = coord_tr(org, dist, prox, med, lat, xyz, f)"
   ]
  }
 ],
 "metadata": {
  "kernelspec": {
   "display_name": "Python 3",
   "language": "python",
   "name": "python3"
  },
  "language_info": {
   "codemirror_mode": {
    "name": "ipython",
    "version": 3
   },
   "file_extension": ".py",
   "mimetype": "text/x-python",
   "name": "python",
   "nbconvert_exporter": "python",
   "pygments_lexer": "ipython3",
   "version": "3.7.4"
  }
 },
 "nbformat": 4,
 "nbformat_minor": 2
}
