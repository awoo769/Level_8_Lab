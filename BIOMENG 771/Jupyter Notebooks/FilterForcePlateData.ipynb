{
 "cells": [
  {
   "cell_type": "markdown",
   "metadata": {},
   "source": [
    "# Filter force plate data\n",
    "\n",
    "> Alex Woodall <br>\n",
    "> Auckland Bioengineering Institute <br>\n",
    "> University of Auckland, New Zealand"
   ]
  },
  {
   "cell_type": "markdown",
   "metadata": {},
   "source": [
    "To perform inverse dynamics in OpenSim, we need to preprocess the ground reaction forces (grf) from the force plate data. This will also convert the data from a csv data file to the required mot file.\n",
    "\n",
    "This code will open up an existing force plate csv data file and preprocess the forces ready for inverse dynamics in OpenSim.\n",
    "\n",
    "Start by importing the libraries needed to run the task.\n"
   ]
  },
  {
   "cell_type": "code",
   "execution_count": 1,
   "metadata": {},
   "outputs": [],
   "source": [
    "import numpy as np\n",
    "from numpy import matlib\n",
    "import tkinter as tk\n",
    "from tkinter import filedialog\n",
    "\n",
    "import matplotlib.pyplot as plt\n",
    "%matplotlib notebook\n",
    "\n",
    "from scipy import signal\n",
    "import csv\n",
    "\n",
    "import sys\n",
    "sys.path.insert(1, r'./../Functions')  # add to path\n",
    "\n",
    "from write_motion_file import write_motion_file"
   ]
  },
  {
   "cell_type": "markdown",
   "metadata": {},
   "source": [
    "## Reading in the csv file\n",
    "\n",
    "We first must choose the csv file to preprocess. Select the appropriate \\_grf.mot file from the directory."
   ]
  },
  {
   "cell_type": "code",
   "execution_count": 3,
   "metadata": {},
   "outputs": [],
   "source": [
    "# read in some data from a csv file\n",
    "root = tk.Tk()\n",
    "root.withdraw()\n",
    "\n",
    "# Get the file name from user input\n",
    "file_path = filedialog.askopenfilename(initialdir = \"r\",title = \"Select file\",filetypes = ((\"csv files\",\"*.csv\"),(\"all files\",\"*.*\")))\n",
    "\n",
    "grf_data = []\n",
    "\n",
    "# Open the csv file\n",
    "with open(file_path) as csvfile:\n",
    "    readCSV = csv.reader(csvfile, delimiter=',')\n",
    "\n",
    "    for row in readCSV:\n",
    "        grf_data.append(row)\n",
    "\n",
    "# Close the csv file\n",
    "csvfile.close()\n",
    "\n",
    "# First line is the header, so ignore that.\n",
    "grf_data = grf_data[1:]\n",
    "\n",
    "# Convert to array of floats\n",
    "grf_data = np.array(grf_data)\n",
    "\n",
    "# Convert any empty strings to \"0\"\n",
    "for i in range(np.shape(grf_data)[0]):\n",
    "    for j in range(np.shape(grf_data)[1]):\n",
    "        if grf_data[i,j] == \"\": # If it is empty, make 0\n",
    "            grf_data[i,j] = \"0\"\n",
    "\n",
    "# Change strings to floats\n",
    "grf_data = grf_data.astype(np.float)"
   ]
  },
  {
   "cell_type": "markdown",
   "metadata": {},
   "source": [
    "## Select the data\n",
    "\n",
    "Once we have opened the csv file, we can now select the data which we want to preprocess. It is wise to open the csv file prior to running to ensure that the correct columns for your file are selected."
   ]
  },
  {
   "cell_type": "code",
   "execution_count": 4,
   "metadata": {},
   "outputs": [],
   "source": [
    "# Get data from the csv file data\n",
    "time = grf_data[:,0] # time\n",
    "\n",
    "# Force plate 1\n",
    "force_plate1_forces = grf_data[:,1:4]\n",
    "force_plate1_COP = grf_data[:,4:7] / 1000\n",
    "force_plate1_Tz = grf_data[:,7]\n",
    "\n",
    "# Force plate 2\n",
    "force_plate2_forces = grf_data[:,8:11]\n",
    "force_plate2_COP = grf_data[:,11:14] / 1000\n",
    "force_plate2_Tz = grf_data[:,14]\n",
    "\n",
    "# Force plate 3\n",
    "force_plate3_forces = grf_data[:,15:18]\n",
    "force_plate3_COP = grf_data[:,18:21] / 1000\n",
    "force_plate3_Tz = grf_data[:,21]"
   ]
  },
  {
   "cell_type": "markdown",
   "metadata": {},
   "source": [
    "## Filtering the data\n",
    "\n",
    "We will use a low pass butterworth filter with a cut-off frequency of 15 Hz for this example. It would be wise to choose a cut-off frequency which is the same as what you filtered the kinematic data for dynamic consistancy.\n",
    "\n",
    "We will be filtering just the data from force plate 2 in this example. Look at the file in Mokka to see what this force plate corresponds to."
   ]
  },
  {
   "cell_type": "code",
   "execution_count": 5,
   "metadata": {},
   "outputs": [
    {
     "data": {
      "image/png": "[encoded data removed]",
      "text/plain": [
       "<Figure size 432x288 with 1 Axes>"
      ]
     },
     "metadata": {
      "needs_background": "light"
     },
     "output_type": "display_data"
    }
   ],
   "source": [
    "# Cut-off frequency for low pass Butterworth filter\n",
    "cut_off_frequency = 15\n",
    "analog_rate = 1200\n",
    "\n",
    "# Filter the forces - do this just for force plate 2 as an example.\n",
    "Wn = cut_off_frequency/(analog_rate/2)\n",
    "\n",
    "# Describe filter characteristics using 4th order Butterworth filter\n",
    "b, a = signal.butter(4, Wn)\n",
    "\n",
    "force_plate2_forces_filt = signal.filtfilt(b, a, force_plate2_forces,axis=0)\n",
    "force_plate2_Tz_filt = signal.filtfilt(b, a, force_plate2_Tz,axis=0)\n",
    "\n",
    "# Plot the filtered and unfiltered forces as a visual check\n",
    "fig, ax = plt.subplots(1, 1)\n",
    "ax.plot(force_plate2_forces,'r')\n",
    "ax.plot(force_plate2_forces_filt,'b')\n",
    "\n",
    "plt.show()"
   ]
  },
  {
   "cell_type": "code",
   "execution_count": 7,
   "metadata": {},
   "outputs": [
    {
     "data": {
      "image/png": "[encoded data removed]",
      "text/plain": [
       "<Figure size 432x288 with 1 Axes>"
      ]
     },
     "metadata": {
      "needs_background": "light"
     },
     "output_type": "display_data"
    }
   ],
   "source": [
    "# Filter the CoP - note that the CoP should really be re-calculated after filtering the forces\n",
    "# This is a hack, since we are not going to recalculate the CoP\n",
    "cut_off_frequency = 50\n",
    "analog_rate = 1200\n",
    "\n",
    "Wn = cut_off_frequency/(analog_rate/2)\n",
    "\n",
    "b, a = signal.butter(2, Wn)\n",
    "force_plate2_COP_filt = signal.filtfilt(b, a, force_plate2_COP,axis=0)\n",
    "\n",
    "fig, ax = plt.subplots(1, 1)\n",
    "ax.plot(force_plate2_COP,'r')\n",
    "ax.plot(force_plate2_COP_filt,'b')\n",
    "\n",
    "plt.show()"
   ]
  },
  {
   "cell_type": "markdown",
   "metadata": {},
   "source": [
    "## Post-processing after filtering\n",
    "\n",
    "### Residuals\n",
    "Filtering often will have residual effects which will effect our analysis. Therefore, when the vertical forces drop below a threshold (20 N), we will set the force and centre of pressure values to be 0."
   ]
  },
  {
   "cell_type": "code",
   "execution_count": 8,
   "metadata": {},
   "outputs": [],
   "source": [
    "# Find when the vertical forces drop below threshold, and then make all of the forces and CoP values 0.0 at these points.\n",
    "force_threshold = 20 # Set this to 20 N\n",
    "\n",
    "# Find the indices where the vertical force is below our threshold\n",
    "force_zero = np.where(force_plate2_forces[:,2] < force_threshold)\n",
    "\n",
    "# Set these values to 0\n",
    "force_plate2_forces_filt[force_zero,:] = 0.0\n",
    "force_plate2_COP_filt[force_zero,:] = 0.0\n",
    "force_plate2_Tz_filt[force_zero] = 0.0"
   ]
  },
  {
   "cell_type": "markdown",
   "metadata": {},
   "source": [
    "### Torque array\n",
    "\n",
    "We need to make sure that the torque data are in a 3xn array. This will make it the same shape as the vertical force and centre of pressure arrays.\n",
    "\n",
    "It is worth noting that the x and y torques are 0."
   ]
  },
  {
   "cell_type": "code",
   "execution_count": 9,
   "metadata": {},
   "outputs": [],
   "source": [
    "# Create a 3xn array of zeros\n",
    "force_plate2_torques = np.zeros((len(force_plate2_Tz_filt), 3))\n",
    "\n",
    "# Make the z component equal to the filtered Tz\n",
    "force_plate2_torques[:,2] = force_plate2_Tz_filt"
   ]
  },
  {
   "cell_type": "markdown",
   "metadata": {},
   "source": [
    "### Rotate data to fit with OpenSim\n",
    "\n",
    "We want to rotate the force plate data 90° about X so that Y is the vertical axis.\n",
    "\n",
    "To do this, first, we want the force data to be in one large array."
   ]
  },
  {
   "cell_type": "code",
   "execution_count": 10,
   "metadata": {},
   "outputs": [],
   "source": [
    "# Merge the 3 data arrays into one array\n",
    "force_data = np.concatenate((force_plate2_forces_filt, force_plate2_COP_filt, force_plate2_torques),axis=1)\n",
    "nt, nc = np.shape(force_data)\n",
    "\n",
    "# Create rotation matrix\n",
    "rot = np.array([(1, 0, 0), (0, 0, 1), (0, -1, 0)])\n",
    "\n",
    "# Check that the number of columns is divisible by 3\n",
    "if nc % 3 != 0:\n",
    "    print(\"Error: force columns must have 3 components each\")\n",
    "\n",
    "# Rotate the marker data\n",
    "rotated_force_data = np.zeros(np.shape(force_data))\n",
    "\n",
    "for i in range(int(nc/3)):\n",
    "    rotated_force_data[:,(3*(i+1)-3):3*(i+1)] = np.matmul(rot, force_data[:, (3*(i+1)-3):3*(i+1)].T).T"
   ]
  },
  {
   "cell_type": "markdown",
   "metadata": {},
   "source": [
    "## Writing to a motion file\n",
    "\n",
    "Now that the preprocessing of the force plate data is complete, we can output the data to a motion file. We will be outputting the time data as well as the force plate data to a motion file."
   ]
  },
  {
   "cell_type": "code",
   "execution_count": 11,
   "metadata": {},
   "outputs": [],
   "source": [
    "# Concatenate time with rotated forces and torques into one array\n",
    "grf_complete = np.concatenate((time[:,np.newaxis], rotated_force_data),axis=1)"
   ]
  },
  {
   "cell_type": "code",
   "execution_count": 12,
   "metadata": {},
   "outputs": [
    {
     "name": "stdout",
     "output_type": "stream",
     "text": [
      "C:/Users/alexw/Dropbox/ABI/BIOMENG 771 Files/BIOMENG_771/KineticsLab/jw_ngait_og1_grf.mot\n"
     ]
    }
   ],
   "source": [
    "# Now output data to a motion file\n",
    "write_motion_file(grf_complete, file_path)"
   ]
  }
 ],
 "metadata": {
  "kernelspec": {
   "display_name": "Python 3",
   "language": "python",
   "name": "python3"
  },
  "language_info": {
   "codemirror_mode": {
    "name": "ipython",
    "version": 3
   },
   "file_extension": ".py",
   "mimetype": "text/x-python",
   "name": "python",
   "nbconvert_exporter": "python",
   "pygments_lexer": "ipython3",
   "version": "3.7.4"
  }
 },
 "nbformat": 4,
 "nbformat_minor": 2
}
