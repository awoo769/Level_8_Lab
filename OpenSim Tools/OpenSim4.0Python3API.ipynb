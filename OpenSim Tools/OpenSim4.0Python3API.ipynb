{
 "cells": [
  {
   "cell_type": "markdown",
   "metadata": {},
   "source": [
    "# Setting up OpenSim 4.0 API for use in Python 3\n",
    "\n",
    "> Alex Woodall<br>\n",
    "> Auckland Bioengineering Institute<br>\n",
    "> Auckland, New Zealand"
   ]
  },
  {
   "cell_type": "markdown",
   "metadata": {},
   "source": [
    "NOTE: OpenSim 4.1 will have scripting available in Python 3 by default.\n",
    "\n",
    "As of 11/12/2019, the default Python package that comes with the OpenSim 4.0 API GUI will only work with Python 2.7.x. To script in Python 3, we must, _'build the OpenSim API [...] from scratch and set the CMake variable OPENSIM_PYTHON_VERSION to 3.'_ [Scripting in Python](https://simtk-confluence.stanford.edu:8443/display/OpenSim/Scripting+in+Python#ScriptinginPython-InstallingAnacondaandthe\"opensim\"Pythonpackage)\n",
    "\n",
    "The process to do this is well documented [here](https://github.com/opensim-org/opensim-core).\n",
    "\n",
    "In short, if you are operating on Windows, you will need to install these applications before starting:\n",
    "- [SWIG](http://www.swig.org/download.html)\n",
    "- [CMake-gui](https://cmake.org/download/)\n",
    "- [Visual Studio](https://visualstudio.microsoft.com/downloads/) - Visual Studio Community is fine\n",
    "- [Anaconda](https://www.anaconda.com/distribution/)\n",
    "\n",
    "When installing [OpenSim-core](https://github.com/opensim-org/opensim-core/releases), I downloaded the zip file. However, you are also able to clone the opensim-core git repository (follow the instructions [here](https://github.com/opensim-org/opensim-core))\n",
    "\n",
    "In the final step, when setting the environment variables, I found that my system did not want a ';' after the C:/opensim-core/bin. But follow what the other path variables look like.\n",
    "\n",
    "After completion, copy the 'opensim' folder in C:/opensim-core/stk/Python into C:/Users/####/Anaconda3/Lib/site-packages\n",
    "\n",
    "Test by running: 'import opensim' in Spyder or any other Python running platform."
   ]
  }
 ],
 "metadata": {
  "kernelspec": {
   "display_name": "Python 3",
   "language": "python",
   "name": "python3"
  },
  "language_info": {
   "codemirror_mode": {
    "name": "ipython",
    "version": 3
   },
   "file_extension": ".py",
   "mimetype": "text/x-python",
   "name": "python",
   "nbconvert_exporter": "python",
   "pygments_lexer": "ipython3",
   "version": "3.7.4"
  }
 },
 "nbformat": 4,
 "nbformat_minor": 2
}
