{
 "cells": [
  {
   "cell_type": "markdown",
   "metadata": {},
   "source": [
    "## Run Trials\n",
    "\n",
    "> Alex Woodall<br>\n",
    "> Auckland Bioengineering Institute<br>\n",
    "> Auckland, New Zealand"
   ]
  },
  {
   "cell_type": "markdown",
   "metadata": {},
   "source": [
    "This notebook performs inverse kinematics and inverse dynamics on trial data using OpenSim analysis xmls created in [PrepareTrialFromVicon](PrepareTrialFromVicon.ipynb).\n",
    "\n",
    "_Note:_ This is written in Python 3.7.4 with OpenSim 4.0. Make sure you have read the [Python 3 OpenSim API Setup](OpenSim4.0Python3API.ipynb) and testing that the OpenSim API is working with Python 3.\n",
    "\n",
    "__Assuming that you have already run [PrepareTrialFromVicon](PrepareTrialFromVicon.ipynb). If not, do that first__ <br>\n",
    "__Assuming that the OpenSim model has already been pre-scaled using map client scaling and the model.osim is sitting in the model output directory (output_directory > model).__\n",
    "\n",
    "Start by importing the necessary libraries"
   ]
  },
  {
   "cell_type": "code",
   "execution_count": 1,
   "metadata": {},
   "outputs": [],
   "source": [
    "import opensim as osim\n",
    "import os\n",
    "\n",
    "import tkinter as tk\n",
    "from tkinter import filedialog"
   ]
  },
  {
   "cell_type": "markdown",
   "metadata": {},
   "source": [
    "## Requirements\n",
    "\n",
    "We require the directories of the output, as well as the model name and trial name."
   ]
  },
  {
   "cell_type": "code",
   "execution_count": 2,
   "metadata": {},
   "outputs": [],
   "source": [
    "root = tk.Tk()\n",
    "root.withdraw()\n",
    "\n",
    "output_directory = filedialog.askdirectory(initialdir = os.getcwd(),title = \"Select OUTPUT directory\")\n",
    "\n",
    "# Enter model and trial names\n",
    "model = 'AB08'\n",
    "trial = '_12Mar_ss_12ms_01'"
   ]
  },
  {
   "cell_type": "markdown",
   "metadata": {},
   "source": [
    "## Inverse Kinematics"
   ]
  },
  {
   "cell_type": "code",
   "execution_count": 7,
   "metadata": {},
   "outputs": [
    {
     "name": "stdout",
     "output_type": "stream",
     "text": [
      "Inverse Kinematics Completed\n"
     ]
    }
   ],
   "source": [
    "IK_setup_file = output_directory + \"\\\\\" + model + \"\\\\\" + trial + \"\\\\\" + trial + \"IKSetup.xml\"\n",
    "IK_tool = osim.InverseKinematicsTool(IK_setup_file)\n",
    "\n",
    "IK_tool.run()\n",
    "\n",
    "print(\"Inverse Kinematics Completed\")"
   ]
  },
  {
   "cell_type": "markdown",
   "metadata": {},
   "source": [
    "The results will be in the trialIKResults.mot file within the output folder"
   ]
  },
  {
   "cell_type": "markdown",
   "metadata": {},
   "source": [
    "## Inverse Dynamics"
   ]
  },
  {
   "cell_type": "code",
   "execution_count": 10,
   "metadata": {},
   "outputs": [
    {
     "name": "stdout",
     "output_type": "stream",
     "text": [
      "Inverse Dynamics Completed\n"
     ]
    }
   ],
   "source": [
    "ID_setup_file = output_directory + \"\\\\\" + model + \"\\\\\" + trial + \"\\\\\" + trial + \"IDSetup.xml\"\n",
    "ID_tool = osim.InverseDynamicsTool(ID_setup_file)\n",
    "\n",
    "ID_tool.run()\n",
    "\n",
    "print(\"Inverse Dynamics Completed\")"
   ]
  },
  {
   "cell_type": "markdown",
   "metadata": {},
   "source": [
    "The results will be in the trialIDResults.sto file within the output folder"
   ]
  },
  {
   "cell_type": "markdown",
   "metadata": {},
   "source": [
    "## Muscle Analysis"
   ]
  },
  {
   "cell_type": "code",
   "execution_count": 11,
   "metadata": {},
   "outputs": [
    {
     "data": {
      "text/plain": [
       "True"
      ]
     },
     "execution_count": 11,
     "metadata": {},
     "output_type": "execute_result"
    }
   ],
   "source": [
    "analysis_setup_file = output_directory + \"\\\\\" + model + \"\\\\\" + trial + \"\\\\\" + trial + \"MuscleAnalysisSetup.xml\"\n",
    "analyze_tool = osim.AnalyzeTool(analysis_setup_file)\n",
    "\n",
    "analyze_tool.run()\n",
    "\n",
    "print(\"Muscle Analysis Completed\")"
   ]
  },
  {
   "cell_type": "code",
   "execution_count": 13,
   "metadata": {},
   "outputs": [],
   "source": [
    "model = osim.Model(r\"C:\\Users\\alexw\\Dropbox\\ABI\\Level_8_Lab\\OpenSim Tools\\ProcessingTrialDataFromVicon\\Output\\AB08_3.osim\")"
   ]
  },
  {
   "cell_type": "code",
   "execution_count": 15,
   "metadata": {},
   "outputs": [
    {
     "data": {
      "text/plain": [
       "True"
      ]
     },
     "execution_count": 15,
     "metadata": {},
     "output_type": "execute_result"
    }
   ],
   "source": [
    "model.printToXML(r\"C:\\Users\\alexw\\Dropbox\\ABI\\Level_8_Lab\\OpenSim Tools\\ProcessingTrialDataFromVicon\\Output\\AB08_4.osim\")"
   ]
  }
 ],
 "metadata": {
  "kernelspec": {
   "display_name": "Python 3",
   "language": "python",
   "name": "python3"
  },
  "language_info": {
   "codemirror_mode": {
    "name": "ipython",
    "version": 3
   },
   "file_extension": ".py",
   "mimetype": "text/x-python",
   "name": "python",
   "nbconvert_exporter": "python",
   "pygments_lexer": "ipython3",
   "version": "3.7.4"
  }
 },
 "nbformat": 4,
 "nbformat_minor": 2
}
