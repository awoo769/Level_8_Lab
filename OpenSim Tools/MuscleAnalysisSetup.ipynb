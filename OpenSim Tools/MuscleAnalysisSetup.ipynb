{
 "cells": [
  {
   "cell_type": "markdown",
   "metadata": {},
   "source": [
    "# General tool for creating Muscle Analysis setup xml file\n",
    "\n",
    "> Alex Woodall<br>\n",
    "> Auckland Bioengineering Institute<br>\n",
    "> Auckland, New Zealand"
   ]
  },
  {
   "cell_type": "markdown",
   "metadata": {},
   "source": [
    "This notebook will create a muscle analysis setup xml file using the OpenSim API in Python.\n",
    "\n",
    "_Note:_ This is written in Python 3.7.4 with OpenSim 4.0. Make sure you have read the [Python 3 OpenSim API Setup](OpenSim4.0Python3API.ipynb) and testing that the OpenSim API is working with Python 3.\n",
    "\n",
    "__Assuming that the motion capture data was pre-processed in Nexus to remove gaps and duplicate markers.__\n",
    "\n",
    "This notebook is better used as a function call where the input variables have been created prior to calling.\n",
    "\n",
    "Start by importing the necessary libraries"
   ]
  },
  {
   "cell_type": "code",
   "execution_count": 1,
   "metadata": {},
   "outputs": [],
   "source": [
    "import numpy as np\n",
    "import opensim as osim\n",
    "from xml.dom import minidom\n",
    "import sys\n",
    "\n",
    "sys.path.insert(1, r'Functions')  # add to path\n",
    "from xml_shorten import xml_shorten"
   ]
  },
  {
   "cell_type": "markdown",
   "metadata": {},
   "source": [
    "## Requirements\n",
    "\n",
    "To generate the muscle analysis setup xml file, we will need five items:\n",
    "- __trial__: the trial name, e.g., \"12_Mar_ss_12ms_01\"\n",
    "- __model__: the model name, e.g., \"AB08\"\n",
    "- __directory__: the output directory name\n",
    "- __time_range__: the start and end times of the trial\n",
    "- __cut_off_freq__: the low pass cut-off frequency (Hz)"
   ]
  },
  {
   "cell_type": "code",
   "execution_count": 2,
   "metadata": {},
   "outputs": [],
   "source": [
    "# Establish input variables example\n",
    "trial = '_12Mar_ss_12ms_01'\n",
    "model = 'AB08'\n",
    "directory = 'C:\\\\Users\\\\alexw\\\\Dropbox\\\\ABI\\\\Level_8_Lab\\\\OpenSim Tools\\\\ProcessingTrialDataFromVicon\\\\Output'\n",
    "time_range = [15.3, 30.455]\n",
    "cut_off_freq = 10"
   ]
  },
  {
   "cell_type": "markdown",
   "metadata": {},
   "source": [
    "## Establish output, time, and filtering variables"
   ]
  },
  {
   "cell_type": "code",
   "execution_count": 6,
   "metadata": {},
   "outputs": [],
   "source": [
    "# Get analyze tool\n",
    "analyze_tool = osim.AnalyzeTool()\n",
    "\n",
    "# Set tool name\n",
    "new_analyze_tool_name = model + trial\n",
    "analyze_tool.setName(new_analyze_tool_name)\n",
    "\n",
    "# Set the opensim model name\n",
    "analyze_tool.setModelFilename(directory + \"\\\\\" + model + \"\\\\\" + model + \".osim\")\n",
    "\n",
    "# Set the results directory\n",
    "analyze_tool.setResultsDir(directory + \"\\\\\" + model + \"\\\\\" + trial)\n",
    "\n",
    "# Set the external loads file\n",
    "external_loads_file = directory + \"\\\\\" + model + \"\\\\\" + trial + \"\\\\\" + trial + 'ExternalLoads.xml'\n",
    "analyze_tool.setExternalLoadsFileName(external_loads_file)\n",
    "\n",
    "# Set the coordinates file\n",
    "coord_file = directory + \"\\\\\" + model + \"\\\\\" + trial + \"\\\\\" + trial + 'IKResults.mot'\n",
    "analyze_tool.setCoordinatesFileName(coord_file)\n",
    "\n",
    "# Set low pass cut-off frequency, NOTE: Must be a double (np.float64)\n",
    "analyze_tool.setLowpassCutoffFrequency(np.float64(cut_off_freq))\n",
    "\n",
    "# Set the time range, NOTE: Must be a double (np.float64)\n",
    "analyze_tool.setInitialTime(np.float64(time_range[0]))\n",
    "analyze_tool.setFinalTime(np.float64(time_range[-1]))"
   ]
  },
  {
   "cell_type": "markdown",
   "metadata": {},
   "source": [
    "## Add muscle analysis"
   ]
  },
  {
   "cell_type": "code",
   "execution_count": 7,
   "metadata": {},
   "outputs": [],
   "source": [
    "analysis_set = analyze_tool.getAnalysisSet()\n",
    "\n",
    "muscle_analysis = osim.MuscleAnalysis()\n",
    "\n",
    "muscle_analysis.setStartTime(round(np.float64(time_range[0]), 3))\n",
    "muscle_analysis.setEndTime(np.float64(time_range[-1]))\n",
    "muscle_analysis.setComputeMoments(True)\n",
    "\n",
    "analysis_set.cloneAndAppend(muscle_analysis);"
   ]
  },
  {
   "cell_type": "markdown",
   "metadata": {},
   "source": [
    "## Write to an XML setup file"
   ]
  },
  {
   "cell_type": "code",
   "execution_count": 8,
   "metadata": {},
   "outputs": [],
   "source": [
    "xml_setup_path = directory + \"\\\\\" + model + \"\\\\\" + trial + \"\\\\\" + trial + \"MuscleAnalysisSetup.xml\"\n",
    "analyze_tool.printToXML(xml_setup_path)\n",
    "\n",
    "''' Temporary fix to set compute moments to true and to remove numerical inaccuracy in times '''\n",
    "\n",
    "dom = minidom.parse(xml_setup_path)\n",
    "analysis_set = dom.getElementsByTagName(\"AnalysisSet\")\n",
    "analysis_set_child = analysis_set.item(0)\n",
    "\n",
    "objects_set = analysis_set_child.getElementsByTagName(\"objects\")\n",
    "objects_set_child = objects_set.item(0)\n",
    "\n",
    "muscle_analysis = objects_set_child.getElementsByTagName(\"MuscleAnalysis\")\n",
    "muscle_analysis_child = muscle_analysis.item(0)\n",
    "\n",
    "muscle_analysis_child.getElementsByTagName(\"compute_moments\")[0].firstChild.nodeValue = \"true\"\n",
    "\n",
    "dom.getElementsByTagName(\"initial_time\")[0].firstChild.nodeValue = time_range[0]\n",
    "dom.getElementsByTagName(\"final_time\")[0].firstChild.nodeValue = time_range[-1]\n",
    "muscle_analysis_child.getElementsByTagName(\"start_time\")[0].firstChild.nodeValue = time_range[0]\n",
    "muscle_analysis_child.getElementsByTagName(\"end_time\")[0].firstChild.nodeValue = time_range[-1]\n",
    "\n",
    "with open(xml_setup_path, 'w') as xml_file:\n",
    "    dom.writexml(xml_file, addindent='\\t', newl='\\n', encoding='UTF-8')\n",
    "    \n",
    "# Using minidom will often create unneeded white space\n",
    "xml_shorten(xml_setup_path)"
   ]
  }
 ],
 "metadata": {
  "kernelspec": {
   "display_name": "Python 3",
   "language": "python",
   "name": "python3"
  },
  "language_info": {
   "codemirror_mode": {
    "name": "ipython",
    "version": 3
   },
   "file_extension": ".py",
   "mimetype": "text/x-python",
   "name": "python",
   "nbconvert_exporter": "python",
   "pygments_lexer": "ipython3",
   "version": "3.7.4"
  }
 },
 "nbformat": 4,
 "nbformat_minor": 2
}
