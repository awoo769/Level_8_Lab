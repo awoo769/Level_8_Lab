{
 "cells": [
  {
   "cell_type": "markdown",
   "metadata": {},
   "source": [
    "# General tool for creating Muscle Force Direction setup xml file\n",
    "\n",
    "> Alex Woodall<br>\n",
    "> Auckland Bioengineering Institute<br>\n",
    "> Auckland, New Zealand"
   ]
  },
  {
   "cell_type": "markdown",
   "metadata": {},
   "source": [
    "This notebook will create a muscle analysis setup xml file by using xml parsing. This tool is 3rd party and therefore is not supported by the OpenSim API.\n",
    "\n",
    "__Assuming that the motion capture data was pre-processed in Nexus to remove gaps and duplicate markers.__\n",
    "\n",
    "This notebook is better used as a function call where the input variables have been created prior to calling.\n",
    "\n",
    "Start by importing the necessary libraries"
   ]
  },
  {
   "cell_type": "code",
   "execution_count": 1,
   "metadata": {},
   "outputs": [],
   "source": [
    "import numpy as np\n",
    "from xml.dom import minidom\n",
    "import sys\n",
    "\n",
    "sys.path.insert(1, r'Functions')  # add to path\n",
    "from xml_shorten import xml_shorten"
   ]
  },
  {
   "cell_type": "markdown",
   "metadata": {},
   "source": [
    "## Requirements\n",
    "\n",
    "To generate the muscle force direction setup xml file, we will need six items:\n",
    "- __force_filename__: the full filename for the template muscle force direction setup xml file\n",
    "- __trial__: the trial name, e.g., \"12_Mar_ss_12ms_01\"\n",
    "- __model__: the model name, e.g., \"AB08\"\n",
    "- __directory__: the output directory name\n",
    "- __time__range__: the start and end times of the trial\n",
    "- __cut_off_freq__: the low pass cut-off frequency (Hz)"
   ]
  },
  {
   "cell_type": "code",
   "execution_count": 6,
   "metadata": {},
   "outputs": [],
   "source": [
    "# Establish input variables example\n",
    "force_filename = 'C:\\\\Users\\\\alexw\\\\Dropbox\\\\ABI\\\\Level_8_Lab\\\\OpenSim Tools\\\\ProcessingTrialDataFromVicon\\\\xmlTemplates\\\\MuscleForceDirectionSetup.xml'\n",
    "trial = '_12Mar_ss_12ms_01'\n",
    "model = 'AB08'\n",
    "directory = 'C:\\\\Users\\\\alexw\\\\Dropbox\\\\ABI\\\\Level_8_Lab\\\\OpenSim Tools\\\\ProcessingTrialDataFromVicon\\\\Output'\n",
    "time__range = [15.3, 30.455]\n",
    "cut_off_freq = 10"
   ]
  },
  {
   "cell_type": "markdown",
   "metadata": {},
   "source": [
    "## Establish output, time, and filtering variables"
   ]
  },
  {
   "cell_type": "code",
   "execution_count": 7,
   "metadata": {},
   "outputs": [],
   "source": [
    "doc_node = minidom.parse(force_filename)\n",
    "\n",
    "''' Get Hierarchy Access '''\n",
    "analyze_tool = doc_node.getElementsByTagName(\"AnalyzeTool\")\n",
    "analyze_tool_child = analyze_tool.item(0)\n",
    "\n",
    "res_directory = analyze_tool_child.getElementsByTagName(\"results_directory\")\n",
    "res_directory_child = res_directory.item(0)\n",
    "\n",
    "model_file = analyze_tool_child.getElementsByTagName(\"model_file\")\n",
    "model_file_child = model_file.item(0)\n",
    "\n",
    "initial_time = analyze_tool_child.getElementsByTagName(\"initial_time\")\n",
    "initial_time_child = initial_time.item(0)\n",
    "\n",
    "final_time = analyze_tool_child.getElementsByTagName(\"final_time\")\n",
    "final_time_child = final_time.item(0)\n",
    "\n",
    "ex_loads_file = analyze_tool_child.getElementsByTagName(\"external_loads_file\")\n",
    "ex_loads_file_child = ex_loads_file.item(0)\n",
    "\n",
    "coords_file = analyze_tool_child.getElementsByTagName(\"coordinates_file\")\n",
    "coords_file_child = coords_file.item(0)\n",
    "\n",
    "analysis_set = analyze_tool_child.getElementsByTagName(\"AnalysisSet\")\n",
    "analysis_set_child = analysis_set.item(0)\n",
    "\n",
    "objects_set = analysis_set_child.getElementsByTagName(\"objects\")\n",
    "objects_set_child = objects_set.item(0)\n",
    "\n",
    "filter_frequency = analyze_tool_child.getElementsByTagName(\"lowpass_cutoff_frequency_for_coordinates\")\n",
    "filter_frequency_child = filter_frequency.item(0)"
   ]
  },
  {
   "cell_type": "markdown",
   "metadata": {},
   "source": [
    "## Muscle force direction settings"
   ]
  },
  {
   "cell_type": "code",
   "execution_count": 8,
   "metadata": {},
   "outputs": [],
   "source": [
    "muscle_force_direction = objects_set_child.getElementsByTagName(\"MuscleForceDirection\")\n",
    "muscle_force_direction_child = muscle_force_direction.item(0)\n",
    "\n",
    "muscle_force_direction_start_time = muscle_force_direction_child.getElementsByTagName(\"start_time\")\n",
    "muscle_force_direction_start_time_child = muscle_force_direction_start_time.item(0)\n",
    "\n",
    "muscle_force_direction_end_time = muscle_force_direction_child.getElementsByTagName(\"end_time\")\n",
    "muscle_force_direction_end_time_child = muscle_force_direction_end_time.item(0)"
   ]
  },
  {
   "cell_type": "markdown",
   "metadata": {},
   "source": [
    "## Set new directory, filenames, and number outputs"
   ]
  },
  {
   "cell_type": "code",
   "execution_count": 9,
   "metadata": {},
   "outputs": [],
   "source": [
    "new_analyze_tool_name = model + trial\n",
    "analyze_tool_child.setAttribute('name', new_analyze_tool_name)\n",
    "\n",
    "# Local directory\n",
    "res_directory_child.firstChild.data = directory + \"\\\\\" + model + \"\\\\\" + trial\n",
    "\n",
    "# OpenSim model name\n",
    "model_file_name = directory + \"\\\\\" + model + \"\\\\\" + model + \".osim\"\n",
    "model_file_child.firstChild.data = model_file_name\n",
    "\n",
    "external_loads_file = directory + \"\\\\\" + model + \"\\\\\" + trial + \"\\\\\" + trial + 'ExternalLoads.xml'\n",
    "ex_loads_file_child.firstChild.data = external_loads_file\n",
    "\n",
    "coordsfile = directory + \"\\\\\" + model + \"\\\\\" + trial + \"\\\\\" + trial + 'IKResults.mot'\n",
    "coords_file_child.firstChild.data = coordsfile\n",
    "\n",
    "filter_frequency_child.firstChild.data = str(cut_off_freq)\n",
    "\n",
    "# Set start and end time for all tools\n",
    "starttime = str(time__range[0])\n",
    "endtime = str(time__range[-1])\n",
    "\n",
    "initial_time_child.firstChild.data = starttime\n",
    "final_time_child.firstChild.data = endtime\n",
    "\n",
    "muscle_force_direction_start_time_child.firstChild.data = starttime\n",
    "muscle_force_direction_end_time_child.firstChild.data = endtime"
   ]
  },
  {
   "cell_type": "markdown",
   "metadata": {},
   "source": [
    "## Write to an XML setup file"
   ]
  },
  {
   "cell_type": "code",
   "execution_count": 12,
   "metadata": {},
   "outputs": [],
   "source": [
    "xml_setup_path = directory + \"\\\\\" + model + \"\\\\\" + trial + \"\\\\\" + trial + \"MuscleForceDirectionSetup.xml\"\n",
    "\n",
    "with open(xml_setup_path, 'w') as xml_file:\n",
    "    doc_node.writexml(xml_file, addindent='\\t', newl='\\n', encoding='UTF-8')\n",
    "    \n",
    "# Using minidom will often create unneeded white space\n",
    "xml_shorten(xml_setup_path)"
   ]
  }
 ],
 "metadata": {
  "kernelspec": {
   "display_name": "Python 3",
   "language": "python",
   "name": "python3"
  },
  "language_info": {
   "codemirror_mode": {
    "name": "ipython",
    "version": 3
   },
   "file_extension": ".py",
   "mimetype": "text/x-python",
   "name": "python",
   "nbconvert_exporter": "python",
   "pygments_lexer": "ipython3",
   "version": "3.7.4"
  }
 },
 "nbformat": 4,
 "nbformat_minor": 2
}
