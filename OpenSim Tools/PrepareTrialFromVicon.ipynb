{
 "cells": [
  {
   "cell_type": "markdown",
   "metadata": {},
   "source": [
    "## Prepare Trial Data from Vicon\n",
    "\n",
    "> Duncan Bakke<br>\n",
    "> Converted into Python by Alex Woodall<br>\n",
    "> Auckland Bioengineering Institute<br>\n",
    "> Auckland, New Zealand"
   ]
  },
  {
   "cell_type": "markdown",
   "metadata": {},
   "source": [
    "This notebook conditions and collates trial data, and setups all necessary OpenSim analysis xmls.\n",
    "\n",
    "_Note:_ This is written in Python 3.7.4 with OpenSim 4.0. Make sure you have read the [Python 3 OpenSim API Setup](OpenSim4.0Python3API.ipynb) and testing that the OpenSim API is working with Python 3.\n",
    "\n",
    "__Assuming that the motion capture data was pre-processed in Nexus to remove gaps and duplicate markers.__<br>\n",
    "__Assuming that in the input directory, there is at least a trc and mot file of the trial.__<br>\n",
    "__Assuming that the OpenSim model has already been pre-scaled using map client scaling and the model.osim is sitting in the model output directory (output_directory > model).__\n",
    "\n",
    "The code in this notebook can also be used as a function call.\n",
    "\n",
    "An example of an input and output directories are shown in the \"exampleInputDirectory\" and \"exampleOutputDirectory\" folders respectively.\n",
    "\n",
    "Start by importing the necessary libraries"
   ]
  },
  {
   "cell_type": "code",
   "execution_count": 1,
   "metadata": {},
   "outputs": [],
   "source": [
    "import os\n",
    "import sys\n",
    "\n",
    "import tkinter as tk\n",
    "from tkinter import filedialog\n",
    "\n",
    "import numpy as np\n",
    "from scipy import signal\n",
    "import matplotlib.pyplot as plt\n",
    "%matplotlib notebook\n",
    "\n",
    "sys.path.insert(1, r'Functions')  # add to path\n",
    "\n",
    "from read_trc import read_trc\n",
    "from write_trc import write_trc\n",
    "from trim_trc import trim_trc\n",
    "\n",
    "from read_mot import read_mot\n",
    "from write_mot import write_mot\n",
    "\n",
    "from read_emg_mot import read_emg_mot\n",
    "from write_emg import write_emg\n",
    "from emg_envelope import emg_envelope\n",
    "\n",
    "from remove_bad_markers import remove_bad_markers\n",
    "from rezero_filter import rezero_filter\n",
    "from fix_grf_headers import fix_grf_headers\n",
    "\n",
    "from xml_shorten import xml_shorten\n",
    "\n",
    "from setup_muscle_force_direction_xml import setup_muscle_force_direction_xml\n",
    "\n",
    "# OpenSim API\n",
    "from setup_ID_xml import setup_ID_xml\n",
    "from setup_IK_xml import setup_IK_xml\n",
    "from setup_load_xml import setup_load_xml\n",
    "from setup_muscle_analysis_xml import setup_muscle_analysis_xml"
   ]
  },
  {
   "cell_type": "markdown",
   "metadata": {},
   "source": [
    "## Requirements\n",
    "\n",
    "We require the directories of the output, input, and setup xmls as well as the model name and trial name."
   ]
  },
  {
   "cell_type": "code",
   "execution_count": 2,
   "metadata": {},
   "outputs": [],
   "source": [
    "root = tk.Tk()\n",
    "root.withdraw()\n",
    "\n",
    "# Let the user select the directories\n",
    "input_directory = filedialog.askdirectory(initialdir = os.getcwd(),title = \"Select INPUT directory\")\n",
    "output_directory = filedialog.askdirectory(initialdir = os.getcwd(),title = \"Select OUTPUT directory\")\n",
    "xml_directory = filedialog.askdirectory(initialdir = os.getcwd(),title = \"Select TEMPLATE XML directory\")\n",
    "\n",
    "# Enter model and trial names - should be the names on the input files\n",
    "model = 'AB28'\n",
    "trial = '_05Apr_ss_11ms_01'"
   ]
  },
  {
   "cell_type": "markdown",
   "metadata": {},
   "source": [
    "## Intial Setup/names"
   ]
  },
  {
   "cell_type": "code",
   "execution_count": 3,
   "metadata": {},
   "outputs": [],
   "source": [
    "# List which contains the names of the motion capture trials which didn't record EMG data. Add to this list if necessary\n",
    "bad_EMG_trials = ['SAFIST015_SS21_20Jun_ss_035ms_02','SAFIST015_SS21_20Jun_fast_075ms_02',\n",
    "                  'SAFIST015_SS42_20Jun_ss_035ms_01','SAFIST015_SS42_20Jun_fast_055ms_01','SAFIST015_SS52_ss_04ms_02',\n",
    "                  'SAFIST015_SS52_fast_07ms_01','SS77_SAFIST015_18Jun_fast_04ms_02','SAFIST015_19Jun_SS90_ss_035ms_01',\n",
    "                  'SAFIST015_19Jun_SS90_fast_055ms_01','_12Mar_ss_12ms_01']\n",
    "\n",
    "bad_EMG = 0 # Set bad_EMG flag to 0 (trial contains good EMG data)\n",
    "recalculate_COP = 1 # Do you want to recalcuate the COP (recommended)\n",
    "\n",
    "# Check if the trial you are running is in the list of bad EMG trials\n",
    "if any(trial == s in s for s in bad_EMG_trials):\n",
    "    bad_EMG = 1 # Set bad_EMG flag to 1 (trial does not contain good EMG data)\n",
    "    \n",
    "# Identify files from Vicon/Nexus export to read\n",
    "trc_filename = os.path.join(input_directory, trial + \".\" + \"trc\")\n",
    "mot_filename = os.path.join(input_directory, trial + \".\" + \"mot\")\n",
    "emg_filename = os.path.join(input_directory, trial + \"_EMG.\" + \"mot\")\n",
    "\n",
    "# Check if the trc/mot/emg files do not exist, and try a different name if they don't\n",
    "if not os.path.exists(trc_filename):\n",
    "    trc_filename = os.path.join(input_directory, model + trial + \".\" + \"trc\")\n",
    "\n",
    "if not os.path.exists(mot_filename):\n",
    "    mot_filename = os.path.join(input_directory, model + trial + \".\" + \"mot\")\n",
    "\n",
    "if not os.path.exists(emg_filename):\n",
    "    emg_filename = os.path.join(input_directory, model + trial + \"_EMG.\" + \"mot\")\n",
    "    \n",
    "    if not os.path.exists(emg_filename):\n",
    "        print('No EMG data for subject %s.\\n' % (model))\n",
    "        bad_EMG = 1\n",
    "    \n",
    "# Make new folder for the output of this model if it doesn't already exist\n",
    "output_model_dir = os.path.join(output_directory, model)\n",
    "output_model_trial_dir = os.path.join(output_model_dir, trial)\n",
    "\n",
    "if not os.path.exists(output_model_dir):\n",
    "    os.mkdir(output_model_dir)\n",
    "    print(\"Making new ouput model directory\")\n",
    "\n",
    "if not os.path.exists(output_model_trial_dir):\n",
    "    os.mkdir(output_model_trial_dir)\n",
    "    print(\"Making new output model trial directory\")\n",
    "    \n",
    "# Generate filenames for template xml files\n",
    "muscle_force_direction_filename = os.path.join(xml_directory, \"MuscleForceDirectionSetup.xml\")"
   ]
  },
  {
   "cell_type": "markdown",
   "metadata": {},
   "source": [
    "## Pull in exported Vicon files, identify time range of interest\n",
    "\n",
    "This approach differs with regard to available event data"
   ]
  },
  {
   "cell_type": "code",
   "execution_count": 4,
   "metadata": {},
   "outputs": [
    {
     "name": "stdout",
     "output_type": "stream",
     "text": [
      "AB28\n",
      "_05Apr_ss_11ms_01\n",
      "\n",
      "\n"
     ]
    }
   ],
   "source": [
    "# Read the trc file\n",
    "mkr_data, _ = read_trc(trc_filename)\n",
    "\n",
    "# Pull out the data of interest\n",
    "frames = mkr_data[\"Data\"][\"FrameNums\"]\n",
    "time = mkr_data[\"Data\"][\"Time\"]\n",
    "data_rate = mkr_data[\"Information\"][\"DataRate\"]\n",
    "markers = mkr_data[\"Data\"][\"Markers\"]\n",
    "marker_names = mkr_data[\"Data\"][\"ModifiedMarkerLabels\"]\n",
    "\n",
    "print(model)\n",
    "print(trial)\n",
    "print('\\n')\n",
    "\n",
    "if not bad_EMG:\n",
    "    emg_headers, emg_data, emg_frequency = read_emg_mot(emg_filename) # Read EMG mot file\n",
    "\n",
    "# 8 refers to the first line of data in the motion file (not in Python indexing e.g., 8 = line 8 (not line 9))\n",
    "grf_headers, full_grf_data = read_mot(8, mot_filename)\n",
    "\n",
    "if ('SS' in model) or ('AB' in model): # If SS or AB, recorded at AUT Millenium\n",
    "    steps = ['l', 'r']\n",
    "    plates = [1, 2]\n",
    "\n",
    "# Create time range\n",
    "time_range = []\n",
    "\n",
    "time_range.append(round(max(time[0], 0) + 0.020, 3)) # Add 0.020 due to EMG time delay\n",
    "time_range.append(np.float64(time[-1]))\n",
    "\n",
    "index_start = np.where(time == time_range[0])\n",
    "index_end = np.where(time == time_range[1])\n",
    "\n",
    "# Create frame range\n",
    "frame_range = []\n",
    "\n",
    "frame_range.append(frames[index_start]) \n",
    "frame_range.append(frames[index_end])"
   ]
  },
  {
   "cell_type": "markdown",
   "metadata": {},
   "source": [
    "## Inverse Kinematics Setup"
   ]
  },
  {
   "cell_type": "code",
   "execution_count": 5,
   "metadata": {},
   "outputs": [
    {
     "name": "stdout",
     "output_type": "stream",
     "text": [
      "New TRC location: C:/Users/alexw/Dropbox/ABI/Level_8_Lab/OpenSim Tools/ProcessingTrialDataFromVicon/Output\\AB28\\_05Apr_ss_11ms_01\\_05Apr_ss_11ms_01.trc\n",
      "\n"
     ]
    }
   ],
   "source": [
    "# Trim data to be within the start and end indices\n",
    "trimmed_markers, trimmed_frames, trimmed_time = trim_trc(markers, frames, time, [int(index_start[0]), int(index_end[0])])\n",
    "\n",
    "# Remove bad markers may not be needed, as conditioning done in Nexus - bad_marker_names is not used\n",
    "good_markers, good_marker_names, bad_marker_names = remove_bad_markers(trimmed_markers, marker_names)\n",
    "\n",
    "# Convert good_markers into an ndarray (nframes x nmarkers * 3)\n",
    "marker_data = []\n",
    "\n",
    "for keys in good_markers.keys():\n",
    "    marker_data.append(good_markers[keys][\"All\"])\n",
    "\n",
    "marker_data = np.array(marker_data).transpose(1,0,2).reshape(len(trimmed_frames),-1)\n",
    "\n",
    "# Concatenate marker data with frame numbers and times\n",
    "new_mkr_data = np.concatenate((trimmed_frames[:, np.newaxis], trimmed_time[:, np.newaxis], marker_data),axis=1)\n",
    "\n",
    "new_filename = os.path.join(output_model_trial_dir, trial + \".\" + \"trc\")\n",
    "\n",
    "# Edit mkr_data[\"Information\"] for trimmed dataset\n",
    "mkr_data[\"Information\"][\"NumFrames\"] = len(trimmed_frames)\n",
    "mkr_data[\"Information\"][\"NumMarkers\"] = np.size(good_marker_names)\n",
    "\n",
    "write_trc(good_marker_names, mkr_data[\"Information\"], trimmed_frames, new_mkr_data, new_filename)\n",
    "\n",
    "# Create the IK setup xml file using the OpenSim API\n",
    "setup_IK_xml(trial, model, output_directory, time_range, good_marker_names)\n",
    "\n",
    "# Because minidom was used at the end of creating the IK file, we need to remove the extra white space that was created\n",
    "filename = output_directory + \"\\\\\" + model + \"\\\\\" + trial + \"\\\\\" + trial + \"IKSetup.xml\"\n",
    "xml_shorten(filename)"
   ]
  },
  {
   "cell_type": "markdown",
   "metadata": {},
   "source": [
    "## Inverse Dynamics Setup"
   ]
  },
  {
   "cell_type": "code",
   "execution_count": 6,
   "metadata": {},
   "outputs": [
    {
     "data": {
      "image/png": "[encoded data removed]",
      "text/plain": [
       "<Figure size 432x288 with 2 Axes>"
      ]
     },
     "metadata": {
      "needs_background": "light"
     },
     "output_type": "display_data"
    }
   ],
   "source": [
    "''' ID files '''\n",
    "\n",
    "# Define the grf capture rate\n",
    "grf_rate = (len(full_grf_data) - 1) / (full_grf_data[-1,0] - full_grf_data[0,0])\n",
    "\n",
    "# Get the original vertical forces\n",
    "indices = [i for i, s in enumerate(grf_headers) if 'vy' in s]\n",
    "original_fy = full_grf_data[:,indices]\n",
    "\n",
    "# Filter GRF data\n",
    "cut_off_frequency = 10\n",
    "Wn = cut_off_frequency/(grf_rate/2)\n",
    "\n",
    "# Describe filter characteristics using 4th order Butterworth filter\n",
    "b, a = signal.butter(4, Wn)\n",
    "\n",
    "new_grf_data = np.zeros(np.shape(full_grf_data))\n",
    "new_grf_data[:,0] = full_grf_data[:,0] # Not filtering time data\n",
    "\n",
    "for i in range(1,len(grf_headers)):\n",
    "    new_grf_data[:,i] = signal.filtfilt(b, a, full_grf_data[:,i], axis=0)\n",
    "\n",
    "# Re-zero grfs\n",
    "filter_plate = rezero_filter(original_fy)\n",
    "\n",
    "# Re-zero all columns except those which refer to the centre of pressure\n",
    "# Assumes that the only headers which contain 'p' are CoP\n",
    "\n",
    "for i in range(1,len(grf_headers)): # Are not rezeroing time\n",
    "    # If not centre of pressure AND force plate 1\n",
    "    if ('p' not in grf_headers[i]) and ('1' in grf_headers[i]):\n",
    "        new_grf_data[:,i] = filter_plate[:,0] * new_grf_data[:,i]\n",
    "    # If not centre of pressure AND force plate 2\n",
    "    elif ('p' not in grf_headers[i]) and ('2' in grf_headers[i]):\n",
    "        new_grf_data[:,i] = filter_plate[:,1] * new_grf_data[:,i]\n",
    "\n",
    "if recalculate_COP:\n",
    "    # Define for recalculating CoP - position of force plates\n",
    "    x_offset = [0.2385, 0.7275]\n",
    "    y_offset = [0, 0]\n",
    "\n",
    "    # OpenSim Coordinate frame has y upwards. We will convert to x and y being the plane parallel\n",
    "    # the ground for convenience (will return to OpenSim coordinates when creating new grf data)\n",
    "    vz_inds = [i for i, s in enumerate(grf_headers) if 'vy' in s]\n",
    "    px_inds = [i for i, s in enumerate(grf_headers) if 'px' in s]\n",
    "    py_inds = [i for i, s in enumerate(grf_headers) if 'pz' in s]\n",
    "\n",
    "    fZ = np.zeros(np.shape(filter_plate.T))\n",
    "    pX = np.zeros(np.shape(filter_plate.T))\n",
    "    pY = np.zeros(np.shape(filter_plate.T))\n",
    "    oldmY = np.zeros(np.shape(filter_plate.T))\n",
    "    oldmX = np.zeros(np.shape(filter_plate.T))\n",
    "\n",
    "    # Back calculate moment measurements\n",
    "    for i in range(len(plates)):\n",
    "        side_inds = [j for j, s in enumerate(grf_headers) if str(i+1) in s]\n",
    "\n",
    "        fZ[i,:] = full_grf_data[:,list(set(side_inds).intersection(vz_inds))].T\n",
    "        pX[i,:] = full_grf_data[:,list(set(side_inds).intersection(px_inds))].T\n",
    "        pY[i,:] = full_grf_data[:,list(set(side_inds).intersection(py_inds))].T\n",
    "\n",
    "        oldmX[i,:] = (y_offset[i] + pY[i,:]) * fZ[i,:]\n",
    "        oldmY[i,:] = (x_offset[i] - pX[i,:]) * fZ[i,:]\n",
    "\n",
    "    # Filter old moments\n",
    "    mX = signal.filtfilt(b, a, oldmX, axis=1)\n",
    "    mY = signal.filtfilt(b, a, oldmY, axis=1)\n",
    "\n",
    "    # Rezero moments\n",
    "    for i in range(len(plates)):\n",
    "        mX[i,:] = filter_plate[:,i].T * mX[i,:]\n",
    "        mY[i,:] = filter_plate[:,i].T * mY[i,:]\n",
    "\n",
    "    # Recalculate CoP with filtered forces and moments\n",
    "    new_pX = np.zeros(np.shape(pX))\n",
    "    new_pY = np.zeros(np.shape(pY))\n",
    "\n",
    "    for i in range(len(plates)):\n",
    "        side_inds = [j for j, s in enumerate(grf_headers) if str(i+1) in s]\n",
    "        new_fZ = new_grf_data[:, list(set(side_inds).intersection(vz_inds))]\n",
    "\n",
    "        for j in range(len(mY[i,:])):\n",
    "            if new_fZ[j] != 0:\n",
    "                new_pX[i,j] = x_offset[i] - (mY[i,j] / new_fZ[j])\n",
    "                new_pY[i,j] = y_offset[i] + (mX[i,j] / new_fZ[j])\n",
    "            else:\n",
    "                new_pX[i,j] = 0\n",
    "                new_pY[i,j] = 0\n",
    "\n",
    "        new_grf_data[:, list(set(side_inds).intersection(px_inds))] = new_pX[i,:][:,np.newaxis]\n",
    "        new_grf_data[:, list(set(side_inds).intersection(py_inds))] = new_pY[i,:][:, np.newaxis]\n",
    "\n",
    "        plt.subplot(1,2,i+1)\n",
    "        plt.plot(pX[i,:], pY[i,:], '*', label='Previous Centre of Pressure')\n",
    "        plt.plot(new_pX[i,:], new_pY[i,:], 'x', label='Recalculated Centre of Pressure')\n",
    "        plt.xlabel('x')\n",
    "        plt.ylabel('y')\n",
    "        plt.legend()\n",
    "\n",
    "    plt.show()"
   ]
  },
  {
   "cell_type": "code",
   "execution_count": 7,
   "metadata": {},
   "outputs": [
    {
     "name": "stdout",
     "output_type": "stream",
     "text": [
      "New MOT location: C:/Users/alexw/Dropbox/ABI/Level_8_Lab/OpenSim Tools/ProcessingTrialDataFromVicon/Output\\AB28\\_05Apr_ss_11ms_01\\_05Apr_ss_11ms_01.mot\n",
      "\n"
     ]
    }
   ],
   "source": [
    "# Trim the new grf data to within the time range\n",
    "grf_data = new_grf_data[int(np.where(np.float32(new_grf_data[:,0]) == time_range[0])[0]):int(np.where(np.float32(new_grf_data[:,0]) == time_range[-1])[0] + 1), :]\n",
    "\n",
    "# Change headers\n",
    "new_headers = fix_grf_headers(grf_headers, steps, plates)\n",
    "\n",
    "# Write force data to a motion file\n",
    "new_filename = os.path.join(output_model_trial_dir, trial + \".\" + \"mot\")\n",
    "write_mot(grf_data, new_filename, new_headers)\n",
    "\n",
    "# Create the ID setup xml file using the OpenSim API\n",
    "setup_ID_xml(trial, model, output_directory, time_range, cut_off_frequency)\n",
    "\n",
    "# Create the external load setup xml file using the OpenSim API\n",
    "setup_load_xml(trial, model, output_directory, cut_off_frequency)"
   ]
  },
  {
   "cell_type": "markdown",
   "metadata": {},
   "source": [
    "## EMG Processing"
   ]
  },
  {
   "cell_type": "code",
   "execution_count": 8,
   "metadata": {},
   "outputs": [
    {
     "name": "stdout",
     "output_type": "stream",
     "text": [
      "New EMG MOT location: C:/Users/alexw/Dropbox/ABI/Level_8_Lab/OpenSim Tools/ProcessingTrialDataFromVicon/Output\\AB28\\_05Apr_ss_11ms_01\\_05Apr_ss_11ms_01_EMG.mot\n",
      "\n"
     ]
    }
   ],
   "source": [
    "if bad_EMG == 0:\n",
    "    # Get the EMG envelope (filtered, rectified, and normalised between 0 and 1)\n",
    "    emg_env = emg_envelope(emg_data, emg_frequency)\n",
    "\n",
    "    # Return correct frame and sub-frame numbers\n",
    "    if ('Frame' in emg_headers[0]) and ('Frame' in emg_headers[1]):\n",
    "        emg_env[:,0:2] = emg_data[:,0:2]\n",
    "\n",
    "    emg_delay = 0.020 # 2 frames at 100 Hz or 4 frames at 200 Hz\n",
    "    frame_offset = emg_delay / (1/data_rate)\n",
    "    emg_start = np.where(emg_env[:,0] == (frame_range[0] - frame_offset))[0]\n",
    "    emg_end = np.where(emg_data[:,0] == (frame_range[-1] - frame_offset))[0]\n",
    "\n",
    "    emg_time = np.linspace((time_range[0] - emg_delay), (time_range[-1] - emg_delay), len(grf_data))\n",
    "\n",
    "    # Clip the top and bottom of the EMG data to fit the grf data size\n",
    "    clipped_emg = emg_env[emg_start[-1]:emg_end[-1]+1,:]\n",
    "\n",
    "    emg = np.concatenate((emg_time[:, np.newaxis], clipped_emg[:, 2:]), axis=1)\n",
    "\n",
    "    emg_labels = emg_headers[2:]\n",
    "    emg_labels.insert(0, 'time')\n",
    "\n",
    "    emg_new_filename = output_directory + \"\\\\\" + model + \"\\\\\" + trial + \"\\\\\" + trial + \"_EMG.mot\"\n",
    "    write_emg(emg, emg_labels, emg_new_filename)"
   ]
  },
  {
   "cell_type": "code",
   "execution_count": 9,
   "metadata": {},
   "outputs": [
    {
     "data": {
      "image/png": "[encoded data removed]",
      "text/plain": [
       "<Figure size 432x288 with 2 Axes>"
      ]
     },
     "metadata": {
      "needs_background": "light"
     },
     "output_type": "display_data"
    }
   ],
   "source": [
    "# Plot unfiltered and processed EMG data for 1 column\n",
    "\n",
    "fig, ax = plt.subplots(2, 1)\n",
    "plt.subplot(2,1,1)\n",
    "plt.plot(emg[:,0],emg_data[emg_start[-1]:emg_end[-1]+1,9])\n",
    "\n",
    "plt.xlabel('time')\n",
    "plt.ylabel('amplitude')\n",
    "plt.title('Raw EMG data')\n",
    "\n",
    "plt.subplot(2,1,2)\n",
    "plt.plot(emg[:,0], emg[:,9])\n",
    "\n",
    "plt.xlabel('time')\n",
    "plt.ylabel('amplitude')\n",
    "plt.title('Processed EMG data')\n",
    "\n",
    "fig.tight_layout()\n",
    "plt.show()"
   ]
  },
  {
   "cell_type": "markdown",
   "metadata": {},
   "source": [
    "## Muscle Analysis Files"
   ]
  },
  {
   "cell_type": "code",
   "execution_count": 10,
   "metadata": {},
   "outputs": [],
   "source": [
    "# Create muscle analysis xml file using the OpenSim API\n",
    "setup_muscle_analysis_xml(trial, model, output_directory, time_range, cut_off_frequency)\n",
    "filename = output_directory + \"\\\\\" + model + \"\\\\\" + trial + \"\\\\\" + trial + \"MuscleAnalysisSetup.xml\"\n",
    "xml_shorten(filename)\n",
    "\n",
    "# Create muscle force direction xml file. This is a 3rd party analysis so does not use OpenSim API.\n",
    "setup_muscle_force_direction_xml(muscle_force_direction_filename, trial, model, output_directory, time_range, cut_off_frequency)\n",
    "filename = output_directory + \"\\\\\" + model + \"\\\\\" + trial + \"\\\\\" + trial + muscle_force_direction_filename.split(\"\\\\\")[-1]\n",
    "xml_shorten(filename)"
   ]
  },
  {
   "cell_type": "code",
   "execution_count": 11,
   "metadata": {},
   "outputs": [
    {
     "name": "stdout",
     "output_type": "stream",
     "text": [
      "Completed trial preparation for model = AB28\ttrial = _05Apr_ss_11ms_01.\n"
     ]
    }
   ],
   "source": [
    "print(\"Completed trial preparation for model = %s\\ttrial = %s.\" % (model, trial))"
   ]
  }
 ],
 "metadata": {
  "kernelspec": {
   "display_name": "Python 3",
   "language": "python",
   "name": "python3"
  },
  "language_info": {
   "codemirror_mode": {
    "name": "ipython",
    "version": 3
   },
   "file_extension": ".py",
   "mimetype": "text/x-python",
   "name": "python",
   "nbconvert_exporter": "python",
   "pygments_lexer": "ipython3",
   "version": "3.7.4"
  }
 },
 "nbformat": 4,
 "nbformat_minor": 2
}
