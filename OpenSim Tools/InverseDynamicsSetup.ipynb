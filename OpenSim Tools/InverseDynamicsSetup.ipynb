{
 "cells": [
  {
   "cell_type": "markdown",
   "metadata": {},
   "source": [
    "# General tool for creating Inverse Dynamics setup xml file\n",
    "\n",
    "> Alex Woodall<br>\n",
    "> Auckland Bioengineering Institute<br>\n",
    "> Auckland, New Zealand"
   ]
  },
  {
   "cell_type": "markdown",
   "metadata": {},
   "source": [
    "This notebook will create an inverse dynamics setup xml file using the OpenSim API in Python.\n",
    "\n",
    "_Note:_ This is written in Python 3.7.4 with OpenSim 4.0. Make sure you have read the [Python 3 OpenSim API Setup](OpenSim4.0Python3API.ipynb) and testing that the OpenSim API is working with Python 3.\n",
    "\n",
    "__Assuming that the motion capture data was pre-processed in Nexus to remove gaps and duplicate markers.__\n",
    "\n",
    "This notebook is better used as a function call where the input variables have been created prior to calling.\n",
    "\n",
    "Start by importing the necessary libraries"
   ]
  },
  {
   "cell_type": "code",
   "execution_count": 1,
   "metadata": {},
   "outputs": [],
   "source": [
    "import numpy as np\n",
    "import opensim as osim"
   ]
  },
  {
   "cell_type": "markdown",
   "metadata": {},
   "source": [
    "## Requirements\n",
    "\n",
    "To generate the inverse dynamics setup xml file, we will need five items:\n",
    "- __trial__: the trial name, e.g., \"12_Mar_ss_12ms_01\"\n",
    "- __model__: the model name, e.g., \"AB08\"\n",
    "- __directory__: the output directory name\n",
    "- __time_range__: the start and end times of the trial\n",
    "- __cut_off_freq__: the low pass cut-off frequency (Hz)"
   ]
  },
  {
   "cell_type": "code",
   "execution_count": 2,
   "metadata": {},
   "outputs": [],
   "source": [
    "# Establish input variables example\n",
    "trial = '_12Mar_ss_12ms_01'\n",
    "model = 'AB08'\n",
    "directory = 'C:\\\\Users\\\\alexw\\\\Dropbox\\\\ABI\\\\Level_8_Lab\\\\OpenSim Tools\\\\ProcessingTrialDataFromVicon\\\\Output'\n",
    "time_range = [15.3, 30.455]\n",
    "cut_off_freq = 10"
   ]
  },
  {
   "cell_type": "markdown",
   "metadata": {},
   "source": [
    "## Establish output, time, and filtering variables"
   ]
  },
  {
   "cell_type": "code",
   "execution_count": 3,
   "metadata": {},
   "outputs": [],
   "source": [
    "# Create an instance of the inverse dynamics tool\n",
    "ID_tool = osim.InverseDynamicsTool()\n",
    "\n",
    "# Set tool name\n",
    "ID_tool.setName(model)\n",
    "\n",
    "# Set the opensim model name\n",
    "ID_tool.setModelFileName(directory + \"\\\\\" + model + \"\\\\\" + model + \".osim\")\n",
    "\n",
    "# Set excluded forces\n",
    "excluded_forces = osim.ArrayStr()\n",
    "excluded_forces.setitem(0,'Muscles')\n",
    "ID_tool.setExcludedForces(excluded_forces)\n",
    "\n",
    "# Set low pass cut-off frequency, NOTE: Must be a double (np.float64)\n",
    "ID_tool.setLowpassCutoffFrequency(np.float64(cut_off_freq))\n",
    "\n",
    "# Set the input and results directory\n",
    "ID_tool.setResultsDir(directory + \"\\\\\" + model + \"\\\\\" + trial)\n",
    "ID_tool.setInputsDir(directory + \"\\\\\" + model + \"\\\\\" + trial)\n",
    "\n",
    "# Set the time range, NOTE: Must be a double (np.float64)\n",
    "ID_tool.setStartTime(np.float64(time_range[0]))\n",
    "ID_tool.setEndTime(np.float64(time_range[-1]))\n",
    "\n",
    "# Set the external loads file\n",
    "external_loads_file = directory + \"\\\\\" + model + \"\\\\\" + trial + \"\\\\\" + trial + 'ExternalLoads.xml'\n",
    "ID_tool.setExternalLoadsFileName(external_loads_file)\n",
    "\n",
    "# Set the coordinates file\n",
    "coordindate_file = directory + \"\\\\\" + model + \"\\\\\" + trial + \"\\\\\" + trial + 'IKResults.mot'\n",
    "ID_tool.setCoordinatesFileName(coordindate_file)\n",
    "\n",
    "# Set the output file\n",
    "output_file_name = trial + \"IDResults.sto\"\n",
    "ID_tool.setOutputGenForceFileName(output_file_name)"
   ]
  },
  {
   "cell_type": "markdown",
   "metadata": {},
   "source": [
    "## Write to an XML setup file"
   ]
  },
  {
   "cell_type": "code",
   "execution_count": 6,
   "metadata": {},
   "outputs": [],
   "source": [
    "xml_setup_path = directory + \"\\\\\" + model + \"\\\\\" + trial + \"\\\\\" + trial + \"IDSetup.xml\"\n",
    "ID_tool.printToXML(xml_setup_path);"
   ]
  }
 ],
 "metadata": {
  "kernelspec": {
   "display_name": "Python 3",
   "language": "python",
   "name": "python3"
  },
  "language_info": {
   "codemirror_mode": {
    "name": "ipython",
    "version": 3
   },
   "file_extension": ".py",
   "mimetype": "text/x-python",
   "name": "python",
   "nbconvert_exporter": "python",
   "pygments_lexer": "ipython3",
   "version": "3.7.4"
  }
 },
 "nbformat": 4,
 "nbformat_minor": 2
}
