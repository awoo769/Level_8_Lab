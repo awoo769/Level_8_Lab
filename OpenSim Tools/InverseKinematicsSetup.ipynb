{
 "cells": [
  {
   "cell_type": "markdown",
   "metadata": {},
   "source": [
    "# General tool for creating Inverse Kinematics setup xml file\n",
    "\n",
    "> Alex Woodall<br>\n",
    "> Auckland Bioengineering Institute<br>\n",
    "> Auckland, New Zealand"
   ]
  },
  {
   "cell_type": "markdown",
   "metadata": {},
   "source": [
    "This notebook will create an inverse kinematics setup xml file using the OpenSim API in Python.\n",
    "\n",
    "_Note:_ This is written in Python 3.7.4 with OpenSim 4.0. Make sure you have read the [Python 3 OpenSim API Setup](OpenSim4.0Python3API.ipynb) and testing that the OpenSim API is working with Python 3.\n",
    "\n",
    "__Assuming that the motion capture data was pre-processed in Nexus to remove gaps and duplicate markers.__\n",
    "\n",
    "This notebook is better used as a function call where the input variables have been created prior to calling.\n",
    "\n",
    "Start by importing the necessary libraries"
   ]
  },
  {
   "cell_type": "code",
   "execution_count": 2,
   "metadata": {},
   "outputs": [],
   "source": [
    "import numpy as np\n",
    "import opensim as osim\n",
    "from xml.dom import minidom\n",
    "import sys\n",
    "\n",
    "sys.path.insert(1, r'Functions')  # add to path\n",
    "from xml_shorten import xml_shorten"
   ]
  },
  {
   "cell_type": "markdown",
   "metadata": {},
   "source": [
    "## Requirements\n",
    "\n",
    "To generate the inverse kinematics setup xml file, we will need five items:\n",
    "- __trial__: the trial name, e.g., \"12_Mar_ss_12ms_01\"\n",
    "- __model__: the model name, e.g., \"AB08\"\n",
    "- __directory__: the output directory name\n",
    "- __time_range__: the start and end times of the trial\n",
    "- __marker_names__: the marker names which we used during the motion capture trial"
   ]
  },
  {
   "cell_type": "code",
   "execution_count": 3,
   "metadata": {},
   "outputs": [],
   "source": [
    "# Establish input variables example\n",
    "trial = '_12Mar_ss_12ms_01'\n",
    "model = 'AB08'\n",
    "directory = 'C:\\\\Users\\\\alexw\\\\Dropbox\\\\ABI\\\\Level_8_Lab\\\\OpenSim Tools\\\\ProcessingTrialDataFromVicon\\\\Output'\n",
    "time_range = [15.3, 30.455]\n",
    "marker_names = ['LASI', 'RASI', 'LPSI', 'RPSI', 'LTH1', 'LTH2', 'LTH3', 'LTH4', 'LMFC', 'LLFC', 'LTB1', 'LTB2', 'LTB3', 'LTB4', \n",
    "                'LMMAL', 'LLMAL', 'LCAL', 'LToe', 'LMT1', 'LMT5', 'RTH1', 'RTH2', 'RTH3', 'RTH4', 'RMFC', 'RLFC', 'RTB1', 'RTB2', \n",
    "                'RTB3', 'RTB4', 'RMMAL', 'RLMAL', 'RCAL', 'RToe', 'RMT1', 'RMT5', 'C7', 'T10', 'LACR1', 'RACR1', 'CLAV', 'RBack']"
   ]
  },
  {
   "cell_type": "markdown",
   "metadata": {},
   "source": [
    "## Establish output and time variables"
   ]
  },
  {
   "cell_type": "code",
   "execution_count": 4,
   "metadata": {},
   "outputs": [],
   "source": [
    "# Create an instance of the inverse kinematics tool\n",
    "IK_tool = osim.InverseKinematicsTool()\n",
    "\n",
    "# Set the name of the tool\n",
    "IK_tool.setName(model)\n",
    "\n",
    "# Set the input and results directory\n",
    "IK_tool.setInputsDir(directory + \"\\\\\" + model + \"\\\\\" + trial)\n",
    "IK_tool.setResultsDir(directory + \"\\\\\" + model + \"\\\\\" + trial)\n",
    "\n",
    "# Set the time range, NOTE: Must be a double (np.float64)\n",
    "IK_tool.setStartTime(np.float64(time_range[0]))\n",
    "IK_tool.setEndTime(np.float64(time_range[-1]))\n",
    "\n",
    "# Set the marker file\n",
    "marker_file_name = directory + \"\\\\\" + model + \"\\\\\" + trial + \"\\\\\" + trial + \".trc\"\n",
    "IK_tool.setMarkerDataFileName(marker_file_name)\n",
    "\n",
    "# Set the coordinate file\n",
    "coordinate_file_name = ''\n",
    "IK_tool.setCoordinateFileName(coordinate_file_name)\n",
    "\n",
    "# Set the output motion file\n",
    "output_file_name = directory + \"\\\\\" + model + \"\\\\\" + trial + \"\\\\\" + trial + \"IKResults.mot\"\n",
    "IK_tool.setOutputMotionFileName(output_file_name)"
   ]
  },
  {
   "cell_type": "markdown",
   "metadata": {},
   "source": [
    "## Add markers and set weighting"
   ]
  },
  {
   "cell_type": "code",
   "execution_count": 5,
   "metadata": {},
   "outputs": [],
   "source": [
    "# List of bony anatomical landmarkers to give high weighting\n",
    "bony_landmarks = ['LMMAL','RMMAL','LLMAL','RLMAL','LASI','RASI','LPSI','RPSI']\n",
    "\n",
    "# Create IKTaskSet\n",
    "IK_task_set = IK_tool.getIKTaskSet()\n",
    "\n",
    "# Assign markers and weights\n",
    "for marker in marker_names:\n",
    "    IK_marker_task = osim.IKMarkerTask()\n",
    "    IK_marker_task.setName(marker)\n",
    "    \n",
    "    if marker in bony_landmarks:\n",
    "        IK_marker_task.setApply(True)\n",
    "        IK_marker_task.setWeight(10)\n",
    "    else:\n",
    "        IK_marker_task.setApply(True)\n",
    "        IK_marker_task.setWeight(1)\n",
    "        \n",
    "    IK_task_set.cloneAndAppend(IK_marker_task)"
   ]
  },
  {
   "cell_type": "markdown",
   "metadata": {},
   "source": [
    "## Write to an XML setup file"
   ]
  },
  {
   "cell_type": "code",
   "execution_count": 6,
   "metadata": {},
   "outputs": [],
   "source": [
    "xml_setup_path = directory + \"\\\\\" + model + \"\\\\\" + trial + \"\\\\\" + trial + \"IKSetup.xml\"\n",
    "IK_tool.printToXML(xml_setup_path)\n",
    "\n",
    "''' Temporary fix for setting model name using XML parsing '''\n",
    "\n",
    "dom = minidom.parse(xml_setup_path)\n",
    "dom.getElementsByTagName(\"model_file\")[0].firstChild.nodeValue = directory + \"\\\\\" + model + \"\\\\\" + model + \".osim\"\n",
    "\n",
    "with open(xml_setup_path, 'w') as xml_file:\n",
    "    dom.writexml(xml_file, addindent='\\t', newl='\\n', encoding='UTF-8')\n",
    "\n",
    "# Using minidom will often create unneeded white space\n",
    "xml_shorten(xml_setup_path)"
   ]
  },
  {
   "cell_type": "code",
   "execution_count": null,
   "metadata": {},
   "outputs": [],
   "source": []
  }
 ],
 "metadata": {
  "kernelspec": {
   "display_name": "Python 3",
   "language": "python",
   "name": "python3"
  },
  "language_info": {
   "codemirror_mode": {
    "name": "ipython",
    "version": 3
   },
   "file_extension": ".py",
   "mimetype": "text/x-python",
   "name": "python",
   "nbconvert_exporter": "python",
   "pygments_lexer": "ipython3",
   "version": "3.7.4"
  }
 },
 "nbformat": 4,
 "nbformat_minor": 2
}
