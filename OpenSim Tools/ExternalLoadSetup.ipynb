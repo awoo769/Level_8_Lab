{
 "cells": [
  {
   "cell_type": "markdown",
   "metadata": {},
   "source": [
    "# General tool for creating External Loads setup xml file\n",
    "\n",
    "> Alex Woodall<br>\n",
    "> Auckland Bioengineering Institute<br>\n",
    "> Auckland, New Zealand"
   ]
  },
  {
   "cell_type": "markdown",
   "metadata": {},
   "source": [
    "This notebook will create an external load setup xml file using the OpenSim API in Python.\n",
    "\n",
    "_Note:_ This is written in Python 3.7.4 with OpenSim 4.0. Make sure you have read the [Python 3 OpenSim API Setup](OpenSim4.0Python3API.ipynb) and testing that the OpenSim API is working with Python 3.\n",
    "\n",
    "__Assuming that the motion capture data was pre-processed in Nexus to remove gaps and duplicate markers.__\n",
    "\n",
    "This notebook is better used as a function call where the input variables have been created prior to calling.\n",
    "\n",
    "Start by importing the necessary libraries"
   ]
  },
  {
   "cell_type": "code",
   "execution_count": 1,
   "metadata": {},
   "outputs": [],
   "source": [
    "import numpy as np\n",
    "import opensim as osim"
   ]
  },
  {
   "cell_type": "markdown",
   "metadata": {},
   "source": [
    "## Requirements\n",
    "\n",
    "To generate the external load setup xml file, we will need four items:\n",
    "- __trial__: the trial name, e.g., \"12_Mar_ss_12ms_01\"\n",
    "- __model__: the model name, e.g., \"AB08\"\n",
    "- __directory__: the output directory name\n",
    "- __cut_off_freq__: the low pass cut-off frequency (Hz)"
   ]
  },
  {
   "cell_type": "code",
   "execution_count": 2,
   "metadata": {},
   "outputs": [],
   "source": [
    "# Establish input variables example\n",
    "trial = '_12Mar_ss_12ms_01'\n",
    "model = 'AB08'\n",
    "directory = 'C:\\\\Users\\\\alexw\\\\Dropbox\\\\ABI\\\\Level_8_Lab\\\\OpenSim Tools\\\\ProcessingTrialDataFromVicon\\\\Output'\n",
    "cut_off_freq = 10"
   ]
  },
  {
   "cell_type": "markdown",
   "metadata": {},
   "source": [
    "## Establish output and filtering variables"
   ]
  },
  {
   "cell_type": "code",
   "execution_count": 3,
   "metadata": {},
   "outputs": [],
   "source": [
    "# Create external loads object\n",
    "external_loads = osim.ExternalLoads()\n",
    "\n",
    "# Set name\n",
    "external_loads.setName(model)\n",
    "\n",
    "# Set motion file\n",
    "mot_string = directory + \"\\\\\" + model + \"\\\\\" + trial + \"\\\\\" + trial + \".mot\"\n",
    "external_loads.setDataFileName(mot_string)\n",
    "\n",
    "# Set cut-off frequency, NOTE: Must be a double (np.float64)\n",
    "external_loads.setLowpassCutoffFrequencyForLoadKinematics(np.float64(cut_off_freq))"
   ]
  },
  {
   "cell_type": "markdown",
   "metadata": {},
   "source": [
    "## Add external forces"
   ]
  },
  {
   "cell_type": "code",
   "execution_count": 4,
   "metadata": {},
   "outputs": [],
   "source": [
    "# Left side\n",
    "external_force_left = osim.ExternalForce()\n",
    "external_force_left.setName(\"left\")\n",
    "\n",
    "external_force_left.set_applied_to_body(\"calcn_l\")\n",
    "external_force_left.set_force_expressed_in_body(\"ground\")\n",
    "external_force_left.set_point_expressed_in_body(\"ground\")\n",
    "\n",
    "external_force_left.set_force_identifier(\"1_ground_force_v\")\n",
    "external_force_left.set_point_identifier(\"1_ground_force_p\")\n",
    "external_force_left.set_torque_identifier(\"1_ground_torque_\")\n",
    "\n",
    "external_loads.cloneAndAppend(external_force_left)\n",
    "\n",
    "# Right side\n",
    "external_force_right = osim.ExternalForce()\n",
    "external_force_right.setName(\"right\")\n",
    "\n",
    "external_force_right.set_applied_to_body(\"calcn_r\")\n",
    "external_force_right.set_force_expressed_in_body(\"ground\")\n",
    "external_force_right.set_point_expressed_in_body(\"ground\")\n",
    "\n",
    "external_force_right.set_force_identifier(\"ground_force_v\")\n",
    "external_force_right.set_point_identifier(\"ground_force_p\")\n",
    "external_force_right.set_torque_identifier(\"ground_torque_\")\n",
    "\n",
    "external_loads.cloneAndAppend(external_force_right);"
   ]
  },
  {
   "cell_type": "markdown",
   "metadata": {},
   "source": [
    "## Write to an XML setup file"
   ]
  },
  {
   "cell_type": "code",
   "execution_count": 5,
   "metadata": {},
   "outputs": [],
   "source": [
    "new_filename = directory + \"\\\\\" + model + \"\\\\\" + trial + \"\\\\\" + trial + \"ExternalLoads.xml\"\n",
    "external_loads.printToXML(new_filename);"
   ]
  }
 ],
 "metadata": {
  "kernelspec": {
   "display_name": "Python 3",
   "language": "python",
   "name": "python3"
  },
  "language_info": {
   "codemirror_mode": {
    "name": "ipython",
    "version": 3
   },
   "file_extension": ".py",
   "mimetype": "text/x-python",
   "name": "python",
   "nbconvert_exporter": "python",
   "pygments_lexer": "ipython3",
   "version": "3.7.4"
  }
 },
 "nbformat": 4,
 "nbformat_minor": 2
}
