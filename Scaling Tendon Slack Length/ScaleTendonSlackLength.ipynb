{
 "cells": [
  {
   "cell_type": "markdown",
   "metadata": {},
   "source": [
    "# Scaling tendon slack length and optimal fibre length"
   ]
  },
  {
   "cell_type": "code",
   "execution_count": null,
   "metadata": {},
   "outputs": [],
   "source": [
    "import numpy as np\n",
    "import os\n",
    "import sys\n",
    "import opensim as osim\n",
    "import pickle\n",
    "import tkinter as tk\n",
    "from tkinter import filedialog\n",
    "\n",
    "sys.path.insert(1, r'Functions')  # add to path\n",
    "\n",
    "from optimal_muscle_parameters import optimal_muscle_parameters\n",
    "from assess_muscle_param_var import assess_muscle_param_var\n",
    "from assess_muscle_mapping import assess_muscle_mapping"
   ]
  },
  {
   "cell_type": "markdown",
   "metadata": {},
   "source": [
    "This script calculates the tendon slack length and optimal fibre length for a kinematic model.\n",
    "\n",
    "Requirements: a subject specific scaled model (e.g., __AB08.osim__) and the generic base model (e.g., __gait2392_simbody.osim__)"
   ]
  },
  {
   "cell_type": "code",
   "execution_count": null,
   "metadata": {},
   "outputs": [],
   "source": [
    "root = tk.Tk()\n",
    "root.withdraw()\n",
    "\n",
    "osim_model_ref_filepath = filedialog.askopenfilename(initialdir = os.getcwd(),title = \"Select reference model\",filetypes = ((\"osim files\",\"*.osim\"),(\"all files\",\"*.*\")))\n",
    "osim_model_targ_filepath = filedialog.askopenfilename(initialdir = os.getcwd(),title = \"Select scaled model\",filetypes = ((\"osim files\",\"*.osim\"),(\"all files\",\"*.*\")))\n",
    "\n",
    "# Folders used\n",
    "optimsed_model_folder = filedialog.askdirectory(initialdir = os.getcwd(),title = \"Select optimised model folder (OUTPUT)\")\n",
    "results_folder = filedialog.askdirectory(initialdir = os.getcwd(),title = \"Select results folder (OUTPUT)\")\n",
    "log_folder = optimsed_model_folder\n",
    "\n",
    "# Check if results and optimised model folder exists\n",
    "if not os.path.exists(optimsed_model_folder):\n",
    "    os.makedirs(optimsed_model_folder)\n",
    "\n",
    "if not os.path.exists(results_folder):\n",
    "    os.makedirs(results_folder)\n",
    "\n",
    "# Reference model for calculating results metrics\n",
    "osim_model_ref = osim.Model(osim_model_ref_filepath)"
   ]
  },
  {
   "cell_type": "code",
   "execution_count": null,
   "metadata": {},
   "outputs": [],
   "source": [
    "N_eval = int(input(\"Enter number of evaluations to perform: \")) \n",
    "\n",
    "''' Muscle optimiser '''\n",
    "# Optimising target model based on reference model for N_eval points per degree of freedom\n",
    "osim_model_opt, sim_info = optimal_muscle_parameters(osim_model_ref_filepath, osim_model_targ_filepath, N_eval, log_folder)\n",
    "\n",
    "# Setting the output folder\n",
    "if optimsed_model_folder == '' or len(optimsed_model_folder) == 0:\n",
    "    optimsed_model_folder = targ_model_folder\n",
    "\n",
    "# Printing the optimised model\n",
    "osim_model_opt.printToXML(os.path.join(optimsed_model_folder, osim_model_opt.getName()));"
   ]
  },
  {
   "cell_type": "markdown",
   "metadata": {},
   "source": [
    "### Saving Results\n",
    "\n",
    "At this point, the newly optimised model has already been saved. This section is for analysis to find the optimal number of evaluations to perform.\n",
    "\n",
    "If you only need the optimised model (for tendon slack length and optimal fibre length) and are happy with the number of evaluations, feel free to skip this last step. In the chosen 'optimised model folder', there is a log folder which contains the optimised parameters if required to know."
   ]
  },
  {
   "cell_type": "code",
   "execution_count": null,
   "metadata": {},
   "outputs": [],
   "source": [
    "''' Saving Results '''\n",
    "# Variation in muscle parameters\n",
    "results_musvarmetrics = assess_muscle_param_var(osim_model_ref, osim_model_opt, N_eval, results_folder)\n",
    "# Assess muscle mapping (RMSE, max error, etc) at n_Metrics points between reference and optimised model\n",
    "n_Metrics = 10\n",
    "results_musmapmetrics = assess_muscle_mapping(osim_model_ref, osim_model_opt, N_eval, n_Metrics, results_folder)\n",
    "\n",
    "# Save simulation info\n",
    "with open(results_folder + \"\\\\SimsInfo\" + '.pckl', 'wb') as f:\n",
    "    pickle.dump([sim_info], f)"
   ]
  },
  {
   "cell_type": "code",
   "execution_count": null,
   "metadata": {},
   "outputs": [],
   "source": []
  }
 ],
 "metadata": {
  "kernelspec": {
   "display_name": "Python 3",
   "language": "python",
   "name": "python3"
  },
  "language_info": {
   "codemirror_mode": {
    "name": "ipython",
    "version": 3
   },
   "file_extension": ".py",
   "mimetype": "text/x-python",
   "name": "python",
   "nbconvert_exporter": "python",
   "pygments_lexer": "ipython3",
   "version": "3.7.4"
  }
 },
 "nbformat": 4,
 "nbformat_minor": 2
}
