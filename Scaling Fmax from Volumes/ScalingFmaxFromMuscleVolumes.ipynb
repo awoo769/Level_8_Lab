{
 "cells": [
  {
   "cell_type": "markdown",
   "metadata": {},
   "source": [
    "# Scaling Fmax from muscle volumes"
   ]
  },
  {
   "cell_type": "code",
   "execution_count": 1,
   "metadata": {},
   "outputs": [],
   "source": [
    "import opensim as osim\n",
    "import numpy as np\n",
    "import re\n",
    "import os\n",
    "import tkinter as tk\n",
    "from tkinter import filedialog\n",
    "\n",
    "from muscle_volume_calculator import muscle_volume_calculator"
   ]
  },
  {
   "cell_type": "markdown",
   "metadata": {},
   "source": [
    "## Required information\n",
    "\n",
    "To scale Fmax from muscle volumes, we require the height (m) and mass (kg) of the subject."
   ]
  },
  {
   "cell_type": "code",
   "execution_count": 2,
   "metadata": {},
   "outputs": [
    {
     "name": "stdout",
     "output_type": "stream",
     "text": [
      "Enter subjects height (m): 1.706\n",
      "Enter subjects mass (kg): 76.2\n"
     ]
    }
   ],
   "source": [
    "subject_height = float(input('Enter subjects height (m): '))\n",
    "subject_mass = float(input('Enter subjects mass (kg): '))\n",
    "\n",
    "root = tk.Tk()\n",
    "root.withdraw()\n",
    "\n",
    "subject_path = filedialog.askopenfilename(initialdir = os.getcwd(),title = \"Select subject model\",filetypes = ((\"osim files\",\"*.osim\"),(\"all files\",\"*.*\")))"
   ]
  },
  {
   "cell_type": "markdown",
   "metadata": {},
   "source": [
    "## Muscle volumes\n",
    "Handsfield (2014) found a linear relationship between $muscle~volume$ and ($height \\times mass$) for the lower limbs.\n",
    "\n",
    "This code should only be used for lower limb muscles."
   ]
  },
  {
   "cell_type": "code",
   "execution_count": 3,
   "metadata": {},
   "outputs": [],
   "source": [
    "# Calculate muscle volumes using Handsfield (2004)\n",
    "osim_abbr, muscle_volume = muscle_volume_calculator(subject_height, subject_mass)"
   ]
  },
  {
   "cell_type": "code",
   "execution_count": 4,
   "metadata": {},
   "outputs": [],
   "source": [
    "# Load OpenSim model and its muscle set\n",
    "osim_model = osim.Model(subject_path)\n",
    "all_muscles = osim_model.getMuscles()\n",
    "\n",
    "all_muscles_names = [None] * all_muscles.getSize()\n",
    "old_value = np.zeros((all_muscles.getSize(), 1))\n",
    "optimal_fibre_length = np.zeros((all_muscles.getSize(), 1))\n",
    "pen_ang_at_opt_fib_length = np.zeros((all_muscles.getSize(), 1))\n",
    "\n",
    "for i in range(all_muscles.getSize()):\n",
    "    all_muscles_names[i] = all_muscles.get(i).getName()\n",
    "    old_value[i, 0] = all_muscles.get(i).getMaxIsometricForce()\n",
    "    optimal_fibre_length[i, 0] = all_muscles.get(i).getOptimalFiberLength()\n",
    "    pen_ang_at_opt_fib_length[i, 0] = all_muscles.get(i).getPennationAngleAtOptimalFiberLength()\n",
    "\n",
    "# Convert optimal fiber length from m to cm to match volume units (cm^3)\n",
    "optimal_fibre_length = optimal_fibre_length * 100\n",
    "\n",
    "all_muscles_names_cut = [None] * all_muscles.getSize()\n",
    "\n",
    "for i in range(all_muscles.getSize()):\n",
    "    # Delete trailing _r or _l\n",
    "    curr_mus_name = all_muscles_names[i][:-2]\n",
    "\n",
    "    # Split the name from any digit in its name and only keep the first string\n",
    "    all_muscles_names_cut[i] = re.split(r'\\d', curr_mus_name)[0]\n",
    "\n",
    "# Calculate ratio of old max isometric forces for multiple-lines-of-action muscles\n",
    "new_abs_volume = np.zeros((all_muscles.getSize(), 1))\n",
    "frac_of_group = np.zeros((all_muscles.getSize(), 1))"
   ]
  },
  {
   "cell_type": "code",
   "execution_count": 5,
   "metadata": {},
   "outputs": [],
   "source": [
    "for i in range(all_muscles.getSize()):\n",
    "    curr_mus_name = all_muscles_names_cut[i]\n",
    "\n",
    "    try: \n",
    "        curr_index = osim_abbr.index(curr_mus_name)\n",
    "        curr_value = muscle_volume[curr_index]\n",
    "        new_abs_volume[i,0] = curr_value\n",
    "\n",
    "        curr_muscle_name_index = []\n",
    "        tmp_index = [j for j in range(len(all_muscles_names_cut)) if all_muscles_names_cut[j] == curr_mus_name]\n",
    "        curr_muscle_name_index.append(tmp_index[:int(len(tmp_index)/2)])\n",
    "\n",
    "    except ValueError: # muscle name not found\n",
    "        # The peroneus longus/brevis and the extensors (EDL, EHL) have to be treated separately as they are\n",
    "        # represented as a combined muscle group in Handsfield (2014).\n",
    "        if ('per_brev' in curr_mus_name) or ('per_long' in curr_mus_name):\n",
    "            curr_muscle_name_index = []\n",
    "\n",
    "            tmp_index = all_muscles_names_cut.index('per_brev') # .index() finds the first occuring element\n",
    "            curr_muscle_name_index.append(tmp_index)\n",
    "\n",
    "            tmp_index = all_muscles_names_cut.index('per_long') # .index() finds the first occuring element\n",
    "            curr_muscle_name_index.append(tmp_index)\n",
    "\n",
    "            curr_index = osim_abbr.index('per_')\n",
    "            curr_value = muscle_volume[curr_index]\n",
    "            new_abs_volume[i] = curr_value\n",
    "\n",
    "        elif ('ext_dig' in curr_mus_name) or ('ext_hal' in curr_mus_name):\n",
    "            curr_muscle_name_index = []\n",
    "\n",
    "            tmp_index = all_muscles_names_cut.index('ext_dig') # .index() finds the first occuring element\n",
    "            curr_muscle_name_index.append(tmp_index)\n",
    "\n",
    "            tmp_index = all_muscles_names_cut.index('ext_hal') # .index() finds the first occuring element\n",
    "            curr_muscle_name_index.append(tmp_index)\n",
    "\n",
    "            curr_index = osim_abbr.index('ext_')\n",
    "            curr_value = muscle_volume[curr_index]\n",
    "            new_abs_volume[i] = curr_value\n",
    "\n",
    "        else:\n",
    "            curr_muscle_name_index = []\n",
    "            tmp_index = [j for j in range(len(all_muscles_names_cut)) if all_muscles_names_cut[j] == curr_mus_name]\n",
    "            curr_muscle_name_index.append(tmp_index[:int(len(tmp_index)/2)])\n",
    "\n",
    "    frac_of_group[i,0] = old_value[i,0]/np.sum(old_value[np.array(tuple(curr_muscle_name_index))])"
   ]
  },
  {
   "cell_type": "markdown",
   "metadata": {},
   "source": [
    "## Calculate the new maximal isometric muscle forces"
   ]
  },
  {
   "cell_type": "code",
   "execution_count": 6,
   "metadata": {},
   "outputs": [],
   "source": [
    "specific_tension = 61 # N/cm^2 from Zajac 1989\n",
    "new_volume = frac_of_group*new_abs_volume\n",
    "\n",
    "# Maximum isometric muscle force\n",
    "max_iso_muscle_force = specific_tension * (new_volume/optimal_fibre_length) * np.cos(pen_ang_at_opt_fib_length)\n",
    "\n",
    "# Maximum isometric fibre force\n",
    "max_iso_fibre_force = specific_tension * (new_volume/optimal_fibre_length)"
   ]
  },
  {
   "cell_type": "markdown",
   "metadata": {},
   "source": [
    "## Update muscles of loaded model"
   ]
  },
  {
   "cell_type": "code",
   "execution_count": 7,
   "metadata": {},
   "outputs": [],
   "source": [
    "for i in range(all_muscles.getSize()):\n",
    "    # Only update if new value is not 0. Else do not override the original value\n",
    "    if max_iso_muscle_force[i][0] != 0:\n",
    "        all_muscles.get(i).setMaxIsometricForce(max_iso_fibre_force[i][0])\n",
    "\n",
    "# Create and set new model name by adding '_newFmax' at the end\n",
    "osim_name_old = osim_model.getName().split('.')[0]\n",
    "osim_name_new = osim_name_old + '_newFmax.osim'\n",
    "osim_model.setName(osim_name_new)\n",
    "\n",
    "print_new_model = 'yes'\n",
    "\n",
    "# Print new model in specified path\n",
    "if print_new_model == 'yes':\n",
    "    print_path = subject_path.split('.')[0] + '_newFmax.osim'\n",
    "\n",
    "    osim_model.printToXML(print_path)\n",
    "\n",
    "else:\n",
    "    print('----------------------------------------')\n",
    "    print('WARNING: no new model file was printed!')\n",
    "    print('Change in settings and re-run if wanted.')\n",
    "    print('----------------------------------------')"
   ]
  }
 ],
 "metadata": {
  "kernelspec": {
   "display_name": "Python 3",
   "language": "python",
   "name": "python3"
  },
  "language_info": {
   "codemirror_mode": {
    "name": "ipython",
    "version": 3
   },
   "file_extension": ".py",
   "mimetype": "text/x-python",
   "name": "python",
   "nbconvert_exporter": "python",
   "pygments_lexer": "ipython3",
   "version": "3.7.4"
  }
 },
 "nbformat": 4,
 "nbformat_minor": 2
}
